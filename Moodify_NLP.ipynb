{
  "cells": [
    {
      "cell_type": "markdown",
      "metadata": {
        "id": "view-in-github",
        "colab_type": "text"
      },
      "source": [
        "<a href=\"https://colab.research.google.com/github/Looking-forward-to-Ctrlc-Ctrlv/Moodify-NLP/blob/main/Moodify_NLP.ipynb\" target=\"_parent\"><img src=\"https://colab.research.google.com/assets/colab-badge.svg\" alt=\"Open In Colab\"/></a>"
      ]
    },
    {
      "cell_type": "markdown",
      "metadata": {
        "id": "hK4ibITuCH_D"
      },
      "source": [
        "<HTML>\n",
        "<Body>\n",
        "<h1 align=\"center\" style=\"text-decoration-line=underline;text-decoration-color=white;\"><b>Problem Understanding</b></h1>\n",
        "<p align=\"justify\" >Many people face the problem of their music app suggesting music that does not match their current mood leading to dissatisfaction and irritation. The problem becomes more prominent when the person is sad and he keeps getting suggested happy songs. Looking at this prevailing problem we are trying to develop a music recommendation app that uses the user's current mood to suggest suitable songs to the user. Our app would target users struggling to find music that reflects their emotional state, providing an easy and convenient way for them to discover and enjoy music that suits their moods. Our users will benefit from personalized music recommendations that match their mood, making their music experience more enjoyable and satisfying.\n",
        "We have used machine learning in our application to predict the emotion of the users so that we can suggest music they would like to listen to in their current mood. To assess the person’s mood we have to understand what their current situation is, for example, if someone gets a new job they would be happy, but if they lost something very important the most obvious emotion would be sadness. Likewise, if we could not know how our user is feeling at that particular moment we would be able to predict their mood at that time.\n",
        "In our app, we are taking text input from users about how they are feeling or what situation they are in, and using that prompt we are predicting their current emotions. This section of our report is going to explain the procedure we have followed to achieve accurate prediction of user emotions\n",
        "</p>\n",
        "\n",
        "* <b>Buisness Objective</b>\n",
        "<p align=\"justify\">Our music app will revolutionize how people listen to music by catering to their emotions. The app will assess the user's mood and recommend songs that match their emotions. In addition, we will provide curated playlists and a radio feature that plays music according to the user's mood. Our in-app assistant will provide personalized suggestions and help users discover new music. The app will offer a seamless experience, allowing users to effortlessly switch between features and customize their music experience. With our app, users can easily access music that suits their mood and improve their overall listening experience.\n",
        "</p>\n",
        "* <b>Situation</b>\n",
        "<p align=\"justify\">As a college project, our music app will have limited resources and be deployed on a small scale. However, we will still prioritize the core features of assessing emotions and recommending music, and ensure a seamless user experience. We will focus on creating a functional and user-friendly app within our limited skillset and resources.</p>\n",
        "* <b>Data Mining Goals</b>\n",
        "<p align=\"justify\">Our primary objective is to use pre-existing data and advanced data models to accurately predict the mood and emotions of users, allowing us to recommend music tailored to their current state. We will prioritize developing and refining our data models to ensure accurate predictions and personalized music recommendations.\n",
        "</p>\n",
        "* <b>Project Plan</b>\n",
        "<p align=\"justify\">Our music app development process utilized the iterative model, allowing us to create multiple prototypes that we continuously refined and enhanced. We identified and solved problems from the previous version with each iteration, while also adding new features to improve the user experience. Our primary objective was to use advanced data models and pre-existing data to accurately predict user emotions and recommend music tailored to their moods. Despite limited resources and skills, we prioritized the core features of the app to ensure a functional and user-friendly experience.</p></div>\n",
        "</Body>\n",
        "</Html>"
      ]
    },
    {
      "cell_type": "code",
      "execution_count": null,
      "metadata": {
        "id": "Gypg7LlBzU9f",
        "colab": {
          "base_uri": "https://localhost:8080/",
          "height": 17
        },
        "outputId": "9abd10af-6f6c-4890-9e5a-e6ba6ccae62b"
      },
      "outputs": [
        {
          "output_type": "display_data",
          "data": {
            "text/plain": [
              "<IPython.core.display.Javascript object>"
            ],
            "application/javascript": [
              "\n",
              "  for (rule of document.styleSheets[0].cssRules){\n",
              "    if (rule.selectorText=='body') {\n",
              "      rule.style.fontSize a= '25px'\n",
              "      rule.style.color = 'black'\n",
              "      break\n",
              "    }\n",
              "  }\n",
              "  "
            ]
          },
          "metadata": {}
        }
      ],
      "source": [
        "#@title Changing Font Size\n",
        "def increase_font():\n",
        "  from IPython.display import Javascript\n",
        "  display(Javascript('''\n",
        "  for (rule of document.styleSheets[0].cssRules){\n",
        "    if (rule.selectorText=='body') {\n",
        "      rule.style.fontSize a= '25px'\n",
        "      rule.style.color = 'black'\n",
        "      break\n",
        "    }\n",
        "  }\n",
        "  '''))\n",
        "increase_font()\n",
        "get_ipython().events.register('pre_run_cell', increase_font)"
      ]
    },
    {
      "cell_type": "markdown",
      "metadata": {
        "id": "RdRmL08-DARq"
      },
      "source": [
        "<h1><b>Dataset Sources:</b></h1>\n",
        "  <ul>\n",
        "    <li><a>https://www.kaggle.com/datasets/parulpandey/emotion-dataset</a>\n",
        "    <li><a>https://github.com/Jcharis/end2end-nlp-project</li></a>\n",
        "    <li><a>https://github.com/lukasgarbas/nlp-text-emotion</a>\n",
        "    <li><a>https://www.kaggle.com/datasets/pashupatigupta/emotion-detection-from-text</a>\n",
        "  </ul>\n",
        "\n",
        " <h1><b>Describing data</b></h1>\n",
        " <ul>\n",
        "  <li> Examining the data and document its surface properties like data format, number of records, or field identities."
      ]
    },
    {
      "cell_type": "code",
      "execution_count": null,
      "metadata": {
        "id": "fH5svYRbdtOl",
        "colab": {
          "base_uri": "https://localhost:8080/",
          "height": 34
        },
        "outputId": "4496cf71-7c59-4c40-f19b-39a7878a675d"
      },
      "outputs": [
        {
          "output_type": "display_data",
          "data": {
            "text/plain": [
              "<IPython.core.display.Javascript object>"
            ],
            "application/javascript": [
              "\n",
              "  for (rule of document.styleSheets[0].cssRules){\n",
              "    if (rule.selectorText=='body') {\n",
              "      rule.style.fontSize a= '25px'\n",
              "      rule.style.color = 'black'\n",
              "      break\n",
              "    }\n",
              "  }\n",
              "  "
            ]
          },
          "metadata": {}
        },
        {
          "output_type": "stream",
          "name": "stdout",
          "text": [
            "Mounted at /content/drive\n"
          ]
        }
      ],
      "source": [
        "from google.colab import drive\n",
        "drive.mount('/content/drive')"
      ]
    },
    {
      "cell_type": "code",
      "execution_count": null,
      "metadata": {
        "id": "1kVDtJJeexqi",
        "colab": {
          "base_uri": "https://localhost:8080/",
          "height": 17
        },
        "outputId": "cc174198-f446-4be1-e973-d4df427b0bd4"
      },
      "outputs": [
        {
          "output_type": "display_data",
          "data": {
            "text/plain": [
              "<IPython.core.display.Javascript object>"
            ],
            "application/javascript": [
              "\n",
              "  for (rule of document.styleSheets[0].cssRules){\n",
              "    if (rule.selectorText=='body') {\n",
              "      rule.style.fontSize a= '25px'\n",
              "      rule.style.color = 'black'\n",
              "      break\n",
              "    }\n",
              "  }\n",
              "  "
            ]
          },
          "metadata": {}
        }
      ],
      "source": [
        "import pandas as pd\n",
        "import numpy as np\n",
        "import seaborn as sns\n",
        "import matplotlib.pyplot as plt\n",
        "from google.colab import data_table\n",
        "import re\n",
        "import nltk\n",
        "from nltk.stem import WordNetLemmatizer\n",
        "from nltk.corpus import stopwords\n",
        "from collections import Counter\n",
        "from textblob import TextBlob"
      ]
    },
    {
      "cell_type": "code",
      "execution_count": null,
      "metadata": {
        "id": "b5Smg83BezRn",
        "colab": {
          "base_uri": "https://localhost:8080/",
          "height": 261
        },
        "outputId": "12df1ba2-555c-4f64-bb35-b481fd3f76e4"
      },
      "outputs": [
        {
          "output_type": "display_data",
          "data": {
            "text/plain": [
              "<IPython.core.display.Javascript object>"
            ],
            "application/javascript": [
              "\n",
              "  for (rule of document.styleSheets[0].cssRules){\n",
              "    if (rule.selectorText=='body') {\n",
              "      rule.style.fontSize a= '25px'\n",
              "      rule.style.color = 'black'\n",
              "      break\n",
              "    }\n",
              "  }\n",
              "  "
            ]
          },
          "metadata": {}
        },
        {
          "output_type": "execute_result",
          "data": {
            "text/html": [
              "<div>\n",
              "<style scoped>\n",
              "    .dataframe tbody tr th:only-of-type {\n",
              "        vertical-align: middle;\n",
              "    }\n",
              "\n",
              "    .dataframe tbody tr th {\n",
              "        vertical-align: top;\n",
              "    }\n",
              "\n",
              "    .dataframe thead th {\n",
              "        text-align: right;\n",
              "    }\n",
              "</style>\n",
              "<table border=\"1\" class=\"dataframe\">\n",
              "  <thead>\n",
              "    <tr style=\"text-align: right;\">\n",
              "      <th></th>\n",
              "      <th>Emotion</th>\n",
              "      <th>Text</th>\n",
              "    </tr>\n",
              "  </thead>\n",
              "  <tbody>\n",
              "    <tr>\n",
              "      <th>0</th>\n",
              "      <td>neutral</td>\n",
              "      <td>Why ?</td>\n",
              "    </tr>\n",
              "    <tr>\n",
              "      <th>1</th>\n",
              "      <td>joy</td>\n",
              "      <td>Sage Act upgrade on my to do list for tommorow.</td>\n",
              "    </tr>\n",
              "    <tr>\n",
              "      <th>2</th>\n",
              "      <td>sadness</td>\n",
              "      <td>ON THE WAY TO MY HOMEGIRL BABY FUNERAL!!! MAN ...</td>\n",
              "    </tr>\n",
              "    <tr>\n",
              "      <th>3</th>\n",
              "      <td>joy</td>\n",
              "      <td>Such an eye ! The true hazel eye-and so brill...</td>\n",
              "    </tr>\n",
              "    <tr>\n",
              "      <th>4</th>\n",
              "      <td>joy</td>\n",
              "      <td>@Iluvmiasantos ugh babe.. hugggzzz for u .!  b...</td>\n",
              "    </tr>\n",
              "  </tbody>\n",
              "</table>\n",
              "</div>"
            ],
            "application/vnd.google.colaboratory.module+javascript": "\n      import \"https://ssl.gstatic.com/colaboratory/data_table/881c4a0d49046431/data_table.js\";\n\n      const table = window.createDataTable({\n        data: [[{\n            'v': 0,\n            'f': \"0\",\n        },\n\"neutral\",\n\" Why ? \"],\n [{\n            'v': 1,\n            'f': \"1\",\n        },\n\"joy\",\n\"Sage Act upgrade on my to do list for tommorow.\"],\n [{\n            'v': 2,\n            'f': \"2\",\n        },\n\"sadness\",\n\"ON THE WAY TO MY HOMEGIRL BABY FUNERAL!!! MAN I HATE FUNERALS THIS REALLY SHOWS ME HOW BLESSED I AM \"],\n [{\n            'v': 3,\n            'f': \"3\",\n        },\n\"joy\",\n\" Such an eye ! The true hazel eye-and so brilliant ! Regular features , open countenance , with a complexion , Oh ! What a bloom of full health , and such a pretty height and size ; such a firm and upright figure ! There is health , not merely in her bloom , but in her air , her head , her glance . One hears sometimes of a child being ' the picture of health ' ; now , she always gives me the idea of being the complete picture of grown-up health . She is loveliness itself . \"],\n [{\n            'v': 4,\n            'f': \"4\",\n        },\n\"joy\",\n\"@Iluvmiasantos ugh babe.. hugggzzz for u .!  babe naamazed nga ako e babe e, despite nega's mas pinaramdam at fil ko ang \"]],\n        columns: [[\"number\", \"index\"], [\"string\", \"Emotion\"], [\"string\", \"Text\"]],\n        columnOptions: [{\"width\": \"1px\", \"className\": \"index_column\"}],\n        rowsPerPage: 25,\n        helpUrl: \"https://colab.research.google.com/notebooks/data_table.ipynb\",\n        suppressOutputScrolling: true,\n        minimumWidth: undefined,\n      });\n\n      function appendQuickchartButton(parentElement) {\n        let quickchartButtonContainerElement = document.createElement('div');\n        quickchartButtonContainerElement.innerHTML = `\n<div id=\"df-e50e63ba-24d8-4742-8c55-2095c4771f87\">\n  <button class=\"colab-df-quickchart\" onclick=\"quickchart('df-e50e63ba-24d8-4742-8c55-2095c4771f87')\"\n            title=\"Suggest charts.\"\n            style=\"display:none;\">\n    \n<svg xmlns=\"http://www.w3.org/2000/svg\" height=\"24px\"viewBox=\"0 0 24 24\"\n     width=\"24px\">\n    <g>\n        <path d=\"M19 3H5c-1.1 0-2 .9-2 2v14c0 1.1.9 2 2 2h14c1.1 0 2-.9 2-2V5c0-1.1-.9-2-2-2zM9 17H7v-7h2v7zm4 0h-2V7h2v10zm4 0h-2v-4h2v4z\"/>\n    </g>\n</svg>\n  </button>\n  \n<style>\n  .colab-df-quickchart {\n      --bg-color: #E8F0FE;\n      --fill-color: #1967D2;\n      --hover-bg-color: #E2EBFA;\n      --hover-fill-color: #174EA6;\n      --disabled-fill-color: #AAA;\n      --disabled-bg-color: #DDD;\n  }\n\n  [theme=dark] .colab-df-quickchart {\n      --bg-color: #3B4455;\n      --fill-color: #D2E3FC;\n      --hover-bg-color: #434B5C;\n      --hover-fill-color: #FFFFFF;\n      --disabled-bg-color: #3B4455;\n      --disabled-fill-color: #666;\n  }\n\n  .colab-df-quickchart {\n    background-color: var(--bg-color);\n    border: none;\n    border-radius: 50%;\n    cursor: pointer;\n    display: none;\n    fill: var(--fill-color);\n    height: 32px;\n    padding: 0;\n    width: 32px;\n  }\n\n  .colab-df-quickchart:hover {\n    background-color: var(--hover-bg-color);\n    box-shadow: 0 1px 2px rgba(60, 64, 67, 0.3), 0 1px 3px 1px rgba(60, 64, 67, 0.15);\n    fill: var(--button-hover-fill-color);\n  }\n\n  .colab-df-quickchart-complete:disabled,\n  .colab-df-quickchart-complete:disabled:hover {\n    background-color: var(--disabled-bg-color);\n    fill: var(--disabled-fill-color);\n    box-shadow: none;\n  }\n\n  .colab-df-spinner {\n    border: 2px solid var(--fill-color);\n    border-color: transparent;\n    border-bottom-color: var(--fill-color);\n    animation:\n      spin 1s steps(1) infinite;\n  }\n\n  @keyframes spin {\n    0% {\n      border-color: transparent;\n      border-bottom-color: var(--fill-color);\n      border-left-color: var(--fill-color);\n    }\n    20% {\n      border-color: transparent;\n      border-left-color: var(--fill-color);\n      border-top-color: var(--fill-color);\n    }\n    30% {\n      border-color: transparent;\n      border-left-color: var(--fill-color);\n      border-top-color: var(--fill-color);\n      border-right-color: var(--fill-color);\n    }\n    40% {\n      border-color: transparent;\n      border-right-color: var(--fill-color);\n      border-top-color: var(--fill-color);\n    }\n    60% {\n      border-color: transparent;\n      border-right-color: var(--fill-color);\n    }\n    80% {\n      border-color: transparent;\n      border-right-color: var(--fill-color);\n      border-bottom-color: var(--fill-color);\n    }\n    90% {\n      border-color: transparent;\n      border-bottom-color: var(--fill-color);\n    }\n  }\n</style>\n\n  <script>\n    async function quickchart(key) {\n      const quickchartButtonEl =\n        document.querySelector('#' + key + ' button');\n      quickchartButtonEl.disabled = true;  // To prevent multiple clicks.\n      quickchartButtonEl.classList.add('colab-df-spinner');\n      try {\n        const charts = await google.colab.kernel.invokeFunction(\n            'suggestCharts', [key], {});\n      } catch (error) {\n        console.error('Error during call to suggestCharts:', error);\n      }\n      quickchartButtonEl.classList.remove('colab-df-spinner');\n      quickchartButtonEl.classList.add('colab-df-quickchart-complete');\n    }\n    (() => {\n      let quickchartButtonEl =\n        document.querySelector('#df-e50e63ba-24d8-4742-8c55-2095c4771f87 button');\n      quickchartButtonEl.style.display =\n        google.colab.kernel.accessAllowed ? 'block' : 'none';\n    })();\n  </script>\n</div>`;\n        parentElement.appendChild(quickchartButtonContainerElement);\n      }\n\n      appendQuickchartButton(table);\n    ",
            "text/plain": [
              "<google.colab.data_table.DataTable object>"
            ]
          },
          "metadata": {},
          "execution_count": 4
        }
      ],
      "source": [
        "df = pd.read_csv(\"/content/drive/MyDrive/Project 2/emotion-dataset(updated-final).csv\")\n",
        "data_table.DataTable(df.head())"
      ]
    },
    {
      "cell_type": "code",
      "execution_count": null,
      "metadata": {
        "id": "3V8zCs95qbhI",
        "colab": {
          "base_uri": "https://localhost:8080/",
          "height": 115
        },
        "outputId": "f2ce1772-6b0a-4a81-a898-ff08b5dbd673"
      },
      "outputs": [
        {
          "output_type": "display_data",
          "data": {
            "text/plain": [
              "<IPython.core.display.Javascript object>"
            ],
            "application/javascript": [
              "\n",
              "  for (rule of document.styleSheets[0].cssRules){\n",
              "    if (rule.selectorText=='body') {\n",
              "      rule.style.fontSize a= '25px'\n",
              "      rule.style.color = 'black'\n",
              "      break\n",
              "    }\n",
              "  }\n",
              "  "
            ]
          },
          "metadata": {}
        },
        {
          "output_type": "execute_result",
          "data": {
            "text/plain": [
              "<IPython.core.display.HTML object>"
            ],
            "text/html": [
              "<p style=\"font-size:20px\">Shape of the Dataset: (59909, 2)</p><p style=\"font-size:20px\">Rows: 59909</p><p style=\"font-size:20px\">Columns: 2</p>"
            ]
          },
          "metadata": {},
          "execution_count": 5
        }
      ],
      "source": [
        "from IPython.display import HTML\n",
        "HTML(f'<p style=\"font-size:20px\">Shape of the Dataset: {df.shape}</p>' +\n",
        "     f'<p style=\"font-size:20px\">Rows: {df.shape[0]}</p>' +\n",
        "     f'<p style=\"font-size:20px\">Columns: {df.shape[1]}</p>')"
      ]
    },
    {
      "cell_type": "code",
      "execution_count": null,
      "metadata": {
        "id": "rnA2CS35qxnx",
        "colab": {
          "base_uri": "https://localhost:8080/",
          "height": 69
        },
        "outputId": "399e61d1-ce2d-48d2-c52a-9684822e4482"
      },
      "outputs": [
        {
          "output_type": "display_data",
          "data": {
            "text/plain": [
              "<IPython.core.display.Javascript object>"
            ],
            "application/javascript": [
              "\n",
              "  for (rule of document.styleSheets[0].cssRules){\n",
              "    if (rule.selectorText=='body') {\n",
              "      rule.style.fontSize a= '25px'\n",
              "      rule.style.color = 'black'\n",
              "      break\n",
              "    }\n",
              "  }\n",
              "  "
            ]
          },
          "metadata": {}
        },
        {
          "output_type": "execute_result",
          "data": {
            "text/plain": [
              "Emotion    object\n",
              "Text       object\n",
              "dtype: object"
            ]
          },
          "metadata": {},
          "execution_count": 6
        }
      ],
      "source": [
        "#Datatype of each column\n",
        "df.dtypes"
      ]
    },
    {
      "cell_type": "code",
      "execution_count": null,
      "metadata": {
        "id": "Es8EDD2sqz9F",
        "colab": {
          "base_uri": "https://localhost:8080/",
          "height": 34
        },
        "outputId": "3b434cc0-a7fc-45d3-9354-08ccf37325c6"
      },
      "outputs": [
        {
          "output_type": "display_data",
          "data": {
            "text/plain": [
              "<IPython.core.display.Javascript object>"
            ],
            "application/javascript": [
              "\n",
              "  for (rule of document.styleSheets[0].cssRules){\n",
              "    if (rule.selectorText=='body') {\n",
              "      rule.style.fontSize a= '25px'\n",
              "      rule.style.color = 'black'\n",
              "      break\n",
              "    }\n",
              "  }\n",
              "  "
            ]
          },
          "metadata": {}
        },
        {
          "output_type": "execute_result",
          "data": {
            "text/plain": [
              "['Emotion', 'Text']"
            ]
          },
          "metadata": {},
          "execution_count": 7
        }
      ],
      "source": [
        "#Column name\n",
        "df.columns.tolist()"
      ]
    },
    {
      "cell_type": "code",
      "execution_count": null,
      "metadata": {
        "id": "KhfF0wbbq2Sn",
        "colab": {
          "base_uri": "https://localhost:8080/",
          "height": 69
        },
        "outputId": "346e5a3a-a3d7-4f98-948a-448930c4c243"
      },
      "outputs": [
        {
          "output_type": "display_data",
          "data": {
            "text/plain": [
              "<IPython.core.display.Javascript object>"
            ],
            "application/javascript": [
              "\n",
              "  for (rule of document.styleSheets[0].cssRules){\n",
              "    if (rule.selectorText=='body') {\n",
              "      rule.style.fontSize a= '25px'\n",
              "      rule.style.color = 'black'\n",
              "      break\n",
              "    }\n",
              "  }\n",
              "  "
            ]
          },
          "metadata": {}
        },
        {
          "output_type": "execute_result",
          "data": {
            "text/plain": [
              "Emotion    0\n",
              "Text       0\n",
              "dtype: int64"
            ]
          },
          "metadata": {},
          "execution_count": 8
        }
      ],
      "source": [
        "#Checking for null values\n",
        "df.isnull().sum()"
      ]
    },
    {
      "cell_type": "code",
      "execution_count": null,
      "metadata": {
        "id": "XZMWtTNprHjv",
        "colab": {
          "base_uri": "https://localhost:8080/",
          "height": 175
        },
        "outputId": "2638c764-daca-4d45-900c-e37ca0f3bd29"
      },
      "outputs": [
        {
          "output_type": "display_data",
          "data": {
            "text/plain": [
              "<IPython.core.display.Javascript object>"
            ],
            "application/javascript": [
              "\n",
              "  for (rule of document.styleSheets[0].cssRules){\n",
              "    if (rule.selectorText=='body') {\n",
              "      rule.style.fontSize a= '25px'\n",
              "      rule.style.color = 'black'\n",
              "      break\n",
              "    }\n",
              "  }\n",
              "  "
            ]
          },
          "metadata": {}
        },
        {
          "output_type": "execute_result",
          "data": {
            "text/plain": [
              "        Emotion     Text\n",
              "count     59909    59909\n",
              "unique        9    56143\n",
              "top     sadness   Yes . \n",
              "freq      16553       76"
            ],
            "text/html": [
              "\n",
              "  <div id=\"df-d3d03e93-3883-44b8-9f64-459070f6725a\" class=\"colab-df-container\">\n",
              "    <div>\n",
              "<style scoped>\n",
              "    .dataframe tbody tr th:only-of-type {\n",
              "        vertical-align: middle;\n",
              "    }\n",
              "\n",
              "    .dataframe tbody tr th {\n",
              "        vertical-align: top;\n",
              "    }\n",
              "\n",
              "    .dataframe thead th {\n",
              "        text-align: right;\n",
              "    }\n",
              "</style>\n",
              "<table border=\"1\" class=\"dataframe\">\n",
              "  <thead>\n",
              "    <tr style=\"text-align: right;\">\n",
              "      <th></th>\n",
              "      <th>Emotion</th>\n",
              "      <th>Text</th>\n",
              "    </tr>\n",
              "  </thead>\n",
              "  <tbody>\n",
              "    <tr>\n",
              "      <th>count</th>\n",
              "      <td>59909</td>\n",
              "      <td>59909</td>\n",
              "    </tr>\n",
              "    <tr>\n",
              "      <th>unique</th>\n",
              "      <td>9</td>\n",
              "      <td>56143</td>\n",
              "    </tr>\n",
              "    <tr>\n",
              "      <th>top</th>\n",
              "      <td>sadness</td>\n",
              "      <td>Yes .</td>\n",
              "    </tr>\n",
              "    <tr>\n",
              "      <th>freq</th>\n",
              "      <td>16553</td>\n",
              "      <td>76</td>\n",
              "    </tr>\n",
              "  </tbody>\n",
              "</table>\n",
              "</div>\n",
              "    <div class=\"colab-df-buttons\">\n",
              "\n",
              "  <div class=\"colab-df-container\">\n",
              "    <button class=\"colab-df-convert\" onclick=\"convertToInteractive('df-d3d03e93-3883-44b8-9f64-459070f6725a')\"\n",
              "            title=\"Convert this dataframe to an interactive table.\"\n",
              "            style=\"display:none;\">\n",
              "\n",
              "  <svg xmlns=\"http://www.w3.org/2000/svg\" height=\"24px\" viewBox=\"0 -960 960 960\">\n",
              "    <path d=\"M120-120v-720h720v720H120Zm60-500h600v-160H180v160Zm220 220h160v-160H400v160Zm0 220h160v-160H400v160ZM180-400h160v-160H180v160Zm440 0h160v-160H620v160ZM180-180h160v-160H180v160Zm440 0h160v-160H620v160Z\"/>\n",
              "  </svg>\n",
              "    </button>\n",
              "\n",
              "  <style>\n",
              "    .colab-df-container {\n",
              "      display:flex;\n",
              "      gap: 12px;\n",
              "    }\n",
              "\n",
              "    .colab-df-convert {\n",
              "      background-color: #E8F0FE;\n",
              "      border: none;\n",
              "      border-radius: 50%;\n",
              "      cursor: pointer;\n",
              "      display: none;\n",
              "      fill: #1967D2;\n",
              "      height: 32px;\n",
              "      padding: 0 0 0 0;\n",
              "      width: 32px;\n",
              "    }\n",
              "\n",
              "    .colab-df-convert:hover {\n",
              "      background-color: #E2EBFA;\n",
              "      box-shadow: 0px 1px 2px rgba(60, 64, 67, 0.3), 0px 1px 3px 1px rgba(60, 64, 67, 0.15);\n",
              "      fill: #174EA6;\n",
              "    }\n",
              "\n",
              "    .colab-df-buttons div {\n",
              "      margin-bottom: 4px;\n",
              "    }\n",
              "\n",
              "    [theme=dark] .colab-df-convert {\n",
              "      background-color: #3B4455;\n",
              "      fill: #D2E3FC;\n",
              "    }\n",
              "\n",
              "    [theme=dark] .colab-df-convert:hover {\n",
              "      background-color: #434B5C;\n",
              "      box-shadow: 0px 1px 3px 1px rgba(0, 0, 0, 0.15);\n",
              "      filter: drop-shadow(0px 1px 2px rgba(0, 0, 0, 0.3));\n",
              "      fill: #FFFFFF;\n",
              "    }\n",
              "  </style>\n",
              "\n",
              "    <script>\n",
              "      const buttonEl =\n",
              "        document.querySelector('#df-d3d03e93-3883-44b8-9f64-459070f6725a button.colab-df-convert');\n",
              "      buttonEl.style.display =\n",
              "        google.colab.kernel.accessAllowed ? 'block' : 'none';\n",
              "\n",
              "      async function convertToInteractive(key) {\n",
              "        const element = document.querySelector('#df-d3d03e93-3883-44b8-9f64-459070f6725a');\n",
              "        const dataTable =\n",
              "          await google.colab.kernel.invokeFunction('convertToInteractive',\n",
              "                                                    [key], {});\n",
              "        if (!dataTable) return;\n",
              "\n",
              "        const docLinkHtml = 'Like what you see? Visit the ' +\n",
              "          '<a target=\"_blank\" href=https://colab.research.google.com/notebooks/data_table.ipynb>data table notebook</a>'\n",
              "          + ' to learn more about interactive tables.';\n",
              "        element.innerHTML = '';\n",
              "        dataTable['output_type'] = 'display_data';\n",
              "        await google.colab.output.renderOutput(dataTable, element);\n",
              "        const docLink = document.createElement('div');\n",
              "        docLink.innerHTML = docLinkHtml;\n",
              "        element.appendChild(docLink);\n",
              "      }\n",
              "    </script>\n",
              "  </div>\n",
              "\n",
              "\n",
              "<div id=\"df-3dea1ba2-5c46-4b4f-be6f-4c8e35b8c7d7\">\n",
              "  <button class=\"colab-df-quickchart\" onclick=\"quickchart('df-3dea1ba2-5c46-4b4f-be6f-4c8e35b8c7d7')\"\n",
              "            title=\"Suggest charts.\"\n",
              "            style=\"display:none;\">\n",
              "\n",
              "<svg xmlns=\"http://www.w3.org/2000/svg\" height=\"24px\"viewBox=\"0 0 24 24\"\n",
              "     width=\"24px\">\n",
              "    <g>\n",
              "        <path d=\"M19 3H5c-1.1 0-2 .9-2 2v14c0 1.1.9 2 2 2h14c1.1 0 2-.9 2-2V5c0-1.1-.9-2-2-2zM9 17H7v-7h2v7zm4 0h-2V7h2v10zm4 0h-2v-4h2v4z\"/>\n",
              "    </g>\n",
              "</svg>\n",
              "  </button>\n",
              "\n",
              "<style>\n",
              "  .colab-df-quickchart {\n",
              "      --bg-color: #E8F0FE;\n",
              "      --fill-color: #1967D2;\n",
              "      --hover-bg-color: #E2EBFA;\n",
              "      --hover-fill-color: #174EA6;\n",
              "      --disabled-fill-color: #AAA;\n",
              "      --disabled-bg-color: #DDD;\n",
              "  }\n",
              "\n",
              "  [theme=dark] .colab-df-quickchart {\n",
              "      --bg-color: #3B4455;\n",
              "      --fill-color: #D2E3FC;\n",
              "      --hover-bg-color: #434B5C;\n",
              "      --hover-fill-color: #FFFFFF;\n",
              "      --disabled-bg-color: #3B4455;\n",
              "      --disabled-fill-color: #666;\n",
              "  }\n",
              "\n",
              "  .colab-df-quickchart {\n",
              "    background-color: var(--bg-color);\n",
              "    border: none;\n",
              "    border-radius: 50%;\n",
              "    cursor: pointer;\n",
              "    display: none;\n",
              "    fill: var(--fill-color);\n",
              "    height: 32px;\n",
              "    padding: 0;\n",
              "    width: 32px;\n",
              "  }\n",
              "\n",
              "  .colab-df-quickchart:hover {\n",
              "    background-color: var(--hover-bg-color);\n",
              "    box-shadow: 0 1px 2px rgba(60, 64, 67, 0.3), 0 1px 3px 1px rgba(60, 64, 67, 0.15);\n",
              "    fill: var(--button-hover-fill-color);\n",
              "  }\n",
              "\n",
              "  .colab-df-quickchart-complete:disabled,\n",
              "  .colab-df-quickchart-complete:disabled:hover {\n",
              "    background-color: var(--disabled-bg-color);\n",
              "    fill: var(--disabled-fill-color);\n",
              "    box-shadow: none;\n",
              "  }\n",
              "\n",
              "  .colab-df-spinner {\n",
              "    border: 2px solid var(--fill-color);\n",
              "    border-color: transparent;\n",
              "    border-bottom-color: var(--fill-color);\n",
              "    animation:\n",
              "      spin 1s steps(1) infinite;\n",
              "  }\n",
              "\n",
              "  @keyframes spin {\n",
              "    0% {\n",
              "      border-color: transparent;\n",
              "      border-bottom-color: var(--fill-color);\n",
              "      border-left-color: var(--fill-color);\n",
              "    }\n",
              "    20% {\n",
              "      border-color: transparent;\n",
              "      border-left-color: var(--fill-color);\n",
              "      border-top-color: var(--fill-color);\n",
              "    }\n",
              "    30% {\n",
              "      border-color: transparent;\n",
              "      border-left-color: var(--fill-color);\n",
              "      border-top-color: var(--fill-color);\n",
              "      border-right-color: var(--fill-color);\n",
              "    }\n",
              "    40% {\n",
              "      border-color: transparent;\n",
              "      border-right-color: var(--fill-color);\n",
              "      border-top-color: var(--fill-color);\n",
              "    }\n",
              "    60% {\n",
              "      border-color: transparent;\n",
              "      border-right-color: var(--fill-color);\n",
              "    }\n",
              "    80% {\n",
              "      border-color: transparent;\n",
              "      border-right-color: var(--fill-color);\n",
              "      border-bottom-color: var(--fill-color);\n",
              "    }\n",
              "    90% {\n",
              "      border-color: transparent;\n",
              "      border-bottom-color: var(--fill-color);\n",
              "    }\n",
              "  }\n",
              "</style>\n",
              "\n",
              "  <script>\n",
              "    async function quickchart(key) {\n",
              "      const quickchartButtonEl =\n",
              "        document.querySelector('#' + key + ' button');\n",
              "      quickchartButtonEl.disabled = true;  // To prevent multiple clicks.\n",
              "      quickchartButtonEl.classList.add('colab-df-spinner');\n",
              "      try {\n",
              "        const charts = await google.colab.kernel.invokeFunction(\n",
              "            'suggestCharts', [key], {});\n",
              "      } catch (error) {\n",
              "        console.error('Error during call to suggestCharts:', error);\n",
              "      }\n",
              "      quickchartButtonEl.classList.remove('colab-df-spinner');\n",
              "      quickchartButtonEl.classList.add('colab-df-quickchart-complete');\n",
              "    }\n",
              "    (() => {\n",
              "      let quickchartButtonEl =\n",
              "        document.querySelector('#df-3dea1ba2-5c46-4b4f-be6f-4c8e35b8c7d7 button');\n",
              "      quickchartButtonEl.style.display =\n",
              "        google.colab.kernel.accessAllowed ? 'block' : 'none';\n",
              "    })();\n",
              "  </script>\n",
              "</div>\n",
              "    </div>\n",
              "  </div>\n"
            ]
          },
          "metadata": {},
          "execution_count": 9
        }
      ],
      "source": [
        "df.describe()"
      ]
    },
    {
      "cell_type": "code",
      "execution_count": null,
      "metadata": {
        "id": "QTO8PlpfXn_W",
        "colab": {
          "base_uri": "https://localhost:8080/",
          "height": 191
        },
        "outputId": "1da01181-e86f-4553-e867-7bbcbb1c8995"
      },
      "outputs": [
        {
          "output_type": "display_data",
          "data": {
            "text/plain": [
              "<IPython.core.display.Javascript object>"
            ],
            "application/javascript": [
              "\n",
              "  for (rule of document.styleSheets[0].cssRules){\n",
              "    if (rule.selectorText=='body') {\n",
              "      rule.style.fontSize a= '25px'\n",
              "      rule.style.color = 'black'\n",
              "      break\n",
              "    }\n",
              "  }\n",
              "  "
            ]
          },
          "metadata": {}
        },
        {
          "output_type": "execute_result",
          "data": {
            "text/plain": [
              "sadness     16553\n",
              "joy         16407\n",
              "fear         7347\n",
              "anger        6566\n",
              "love         5146\n",
              "surprise     4634\n",
              "neutral      2254\n",
              "disgust       856\n",
              "shame         146\n",
              "Name: Emotion, dtype: int64"
            ]
          },
          "metadata": {},
          "execution_count": 10
        }
      ],
      "source": [
        "df['Emotion'].value_counts()"
      ]
    },
    {
      "cell_type": "code",
      "execution_count": null,
      "metadata": {
        "id": "GQYxQUVQrNB_",
        "colab": {
          "base_uri": "https://localhost:8080/",
          "height": 800
        },
        "outputId": "cff68088-164b-4b4d-da21-007cd9e398f5"
      },
      "outputs": [
        {
          "output_type": "display_data",
          "data": {
            "text/plain": [
              "<IPython.core.display.Javascript object>"
            ],
            "application/javascript": [
              "\n",
              "  for (rule of document.styleSheets[0].cssRules){\n",
              "    if (rule.selectorText=='body') {\n",
              "      rule.style.fontSize a= '25px'\n",
              "      rule.style.color = 'black'\n",
              "      break\n",
              "    }\n",
              "  }\n",
              "  "
            ]
          },
          "metadata": {}
        },
        {
          "output_type": "display_data",
          "data": {
            "text/plain": [
              "<Figure size 2000x1000 with 1 Axes>"
            ],
            "image/png": "[encoded data removed]"
          },
          "metadata": {}
        }
      ],
      "source": [
        "crest_palette = ['#003B36', '#5EB1BF', '#A8C4A2', '#C4B1AE', '#F5CC7F']\n",
        "\n",
        "df_sorted = df['Emotion'].value_counts().sort_values(ascending=False).reset_index()\n",
        "df_sorted.columns = ['Emotion', 'Count']\n",
        "\n",
        "plt.figure(figsize=(20, 10))\n",
        "sns.set_style('darkgrid')\n",
        "ax = sns.countplot(x='Emotion', data=df, palette=crest_palette, order=df_sorted['Emotion'])\n",
        "percentages = df_sorted['Count'].div(len(df)).mul(100).round(2)\n",
        "for i, p in enumerate(ax.patches):\n",
        "    ax.annotate(f\"{percentages[i]:.2f}%\", (p.get_x() + 0.3, p.get_height() + 100))\n",
        "\n",
        "plt.xlabel('Emotion',fontdict={'fontsize': 20, 'color': 'black'})\n",
        "plt.ylabel('Count',fontdict={'fontsize': 20, 'color': 'black'})\n",
        "plt.title('Count of Emotions', fontdict={'fontsize': 20, 'color': 'black'}, loc='center')\n",
        "plt.show()\n",
        "plt.close()"
      ]
    },
    {
      "cell_type": "markdown",
      "metadata": {
        "id": "EtIN-hvpDzoP"
      },
      "source": [
        "<h2><b>Findings from above analysis</b></h2>\n",
        "<ul>\n",
        "  <li>Rows: 59909 , Columns: 2\n",
        "  <li>There is no NULL value\n",
        "  <li>Data is imbalance.\n",
        "  <li>Sadness has the maximum rows datapoints.\n",
        "  <li>We can remove shame,digust and love since the count is very low.\n"
      ]
    },
    {
      "cell_type": "markdown",
      "metadata": {
        "id": "uwXMKX0P42MN"
      },
      "source": [
        "<h1><b>DATA CLEANING & DATA PREPROCESSING</b></h1>"
      ]
    },
    {
      "cell_type": "code",
      "execution_count": null,
      "metadata": {
        "id": "3j_k05F4rUgE",
        "colab": {
          "base_uri": "https://localhost:8080/",
          "height": 17
        },
        "outputId": "441dd6cc-2ed7-4c55-e20f-67c8f87a3d98"
      },
      "outputs": [
        {
          "output_type": "display_data",
          "data": {
            "text/plain": [
              "<IPython.core.display.Javascript object>"
            ],
            "application/javascript": [
              "\n",
              "  for (rule of document.styleSheets[0].cssRules){\n",
              "    if (rule.selectorText=='body') {\n",
              "      rule.style.fontSize a= '25px'\n",
              "      rule.style.color = 'black'\n",
              "      break\n",
              "    }\n",
              "  }\n",
              "  "
            ]
          },
          "metadata": {}
        }
      ],
      "source": [
        "def get_sentiment(text):\n",
        "  blob = TextBlob(text)\n",
        "  sentiment = blob.sentiment.polarity\n",
        "  if sentiment > 0:\n",
        "    result = \"Positive\"\n",
        "  elif sentiment < 0:\n",
        "    result = \"Negative\"\n",
        "  else:\n",
        "    result = \"Neutral\"\n",
        "  return result"
      ]
    },
    {
      "cell_type": "code",
      "execution_count": null,
      "metadata": {
        "id": "iHxwGZHJrXro",
        "colab": {
          "base_uri": "https://localhost:8080/",
          "height": 69
        },
        "outputId": "69dd572d-68d1-4544-b984-34839a07434e"
      },
      "outputs": [
        {
          "output_type": "display_data",
          "data": {
            "text/plain": [
              "<IPython.core.display.Javascript object>"
            ],
            "application/javascript": [
              "\n",
              "  for (rule of document.styleSheets[0].cssRules){\n",
              "    if (rule.selectorText=='body') {\n",
              "      rule.style.fontSize a= '25px'\n",
              "      rule.style.color = 'black'\n",
              "      break\n",
              "    }\n",
              "  }\n",
              "  "
            ]
          },
          "metadata": {}
        },
        {
          "output_type": "stream",
          "name": "stdout",
          "text": [
            "I love machine learning : Positive\n",
            "I like machine learning : Neutral\n",
            "I hate machine learning : Negative\n"
          ]
        }
      ],
      "source": [
        "#Testing function\n",
        "print(f'I love machine learning : {get_sentiment(\"I love machine learning\")}')\n",
        "print(f'I like machine learning : {get_sentiment(\"I like machine learning\")}')\n",
        "print(f'I hate machine learning : {get_sentiment(\"I hate machine learning\")}')"
      ]
    },
    {
      "cell_type": "code",
      "execution_count": null,
      "metadata": {
        "id": "Sqs_82kwrZ3G",
        "colab": {
          "base_uri": "https://localhost:8080/",
          "height": 17
        },
        "outputId": "3cae9297-1884-4276-fc54-67a6a7633379"
      },
      "outputs": [
        {
          "output_type": "display_data",
          "data": {
            "text/plain": [
              "<IPython.core.display.Javascript object>"
            ],
            "application/javascript": [
              "\n",
              "  for (rule of document.styleSheets[0].cssRules){\n",
              "    if (rule.selectorText=='body') {\n",
              "      rule.style.fontSize a= '25px'\n",
              "      rule.style.color = 'black'\n",
              "      break\n",
              "    }\n",
              "  }\n",
              "  "
            ]
          },
          "metadata": {}
        }
      ],
      "source": [
        "df['Sentiment'] = df['Text'].apply(get_sentiment)"
      ]
    },
    {
      "cell_type": "code",
      "execution_count": null,
      "metadata": {
        "id": "VO_8-hCcrd0T",
        "colab": {
          "base_uri": "https://localhost:8080/",
          "height": 261
        },
        "outputId": "24a18b77-30a9-44c3-8e06-9735f277f4ad"
      },
      "outputs": [
        {
          "output_type": "display_data",
          "data": {
            "text/plain": [
              "<IPython.core.display.Javascript object>"
            ],
            "application/javascript": [
              "\n",
              "  for (rule of document.styleSheets[0].cssRules){\n",
              "    if (rule.selectorText=='body') {\n",
              "      rule.style.fontSize a= '25px'\n",
              "      rule.style.color = 'black'\n",
              "      break\n",
              "    }\n",
              "  }\n",
              "  "
            ]
          },
          "metadata": {}
        },
        {
          "output_type": "execute_result",
          "data": {
            "text/html": [
              "<div>\n",
              "<style scoped>\n",
              "    .dataframe tbody tr th:only-of-type {\n",
              "        vertical-align: middle;\n",
              "    }\n",
              "\n",
              "    .dataframe tbody tr th {\n",
              "        vertical-align: top;\n",
              "    }\n",
              "\n",
              "    .dataframe thead th {\n",
              "        text-align: right;\n",
              "    }\n",
              "</style>\n",
              "<table border=\"1\" class=\"dataframe\">\n",
              "  <thead>\n",
              "    <tr style=\"text-align: right;\">\n",
              "      <th></th>\n",
              "      <th>Emotion</th>\n",
              "      <th>Text</th>\n",
              "      <th>Sentiment</th>\n",
              "    </tr>\n",
              "  </thead>\n",
              "  <tbody>\n",
              "    <tr>\n",
              "      <th>0</th>\n",
              "      <td>neutral</td>\n",
              "      <td>Why ?</td>\n",
              "      <td>Neutral</td>\n",
              "    </tr>\n",
              "    <tr>\n",
              "      <th>1</th>\n",
              "      <td>joy</td>\n",
              "      <td>Sage Act upgrade on my to do list for tommorow.</td>\n",
              "      <td>Neutral</td>\n",
              "    </tr>\n",
              "    <tr>\n",
              "      <th>2</th>\n",
              "      <td>sadness</td>\n",
              "      <td>ON THE WAY TO MY HOMEGIRL BABY FUNERAL!!! MAN ...</td>\n",
              "      <td>Negative</td>\n",
              "    </tr>\n",
              "    <tr>\n",
              "      <th>3</th>\n",
              "      <td>joy</td>\n",
              "      <td>Such an eye ! The true hazel eye-and so brill...</td>\n",
              "      <td>Positive</td>\n",
              "    </tr>\n",
              "    <tr>\n",
              "      <th>4</th>\n",
              "      <td>joy</td>\n",
              "      <td>@Iluvmiasantos ugh babe.. hugggzzz for u .!  b...</td>\n",
              "      <td>Neutral</td>\n",
              "    </tr>\n",
              "  </tbody>\n",
              "</table>\n",
              "</div>"
            ],
            "application/vnd.google.colaboratory.module+javascript": "\n      import \"https://ssl.gstatic.com/colaboratory/data_table/881c4a0d49046431/data_table.js\";\n\n      const table = window.createDataTable({\n        data: [[{\n            'v': 0,\n            'f': \"0\",\n        },\n\"neutral\",\n\" Why ? \",\n\"Neutral\"],\n [{\n            'v': 1,\n            'f': \"1\",\n        },\n\"joy\",\n\"Sage Act upgrade on my to do list for tommorow.\",\n\"Neutral\"],\n [{\n            'v': 2,\n            'f': \"2\",\n        },\n\"sadness\",\n\"ON THE WAY TO MY HOMEGIRL BABY FUNERAL!!! MAN I HATE FUNERALS THIS REALLY SHOWS ME HOW BLESSED I AM \",\n\"Negative\"],\n [{\n            'v': 3,\n            'f': \"3\",\n        },\n\"joy\",\n\" Such an eye ! The true hazel eye-and so brilliant ! Regular features , open countenance , with a complexion , Oh ! What a bloom of full health , and such a pretty height and size ; such a firm and upright figure ! There is health , not merely in her bloom , but in her air , her head , her glance . One hears sometimes of a child being ' the picture of health ' ; now , she always gives me the idea of being the complete picture of grown-up health . She is loveliness itself . \",\n\"Positive\"],\n [{\n            'v': 4,\n            'f': \"4\",\n        },\n\"joy\",\n\"@Iluvmiasantos ugh babe.. hugggzzz for u .!  babe naamazed nga ako e babe e, despite nega's mas pinaramdam at fil ko ang \",\n\"Neutral\"]],\n        columns: [[\"number\", \"index\"], [\"string\", \"Emotion\"], [\"string\", \"Text\"], [\"string\", \"Sentiment\"]],\n        columnOptions: [{\"width\": \"1px\", \"className\": \"index_column\"}],\n        rowsPerPage: 25,\n        helpUrl: \"https://colab.research.google.com/notebooks/data_table.ipynb\",\n        suppressOutputScrolling: true,\n        minimumWidth: undefined,\n      });\n\n      function appendQuickchartButton(parentElement) {\n        let quickchartButtonContainerElement = document.createElement('div');\n        quickchartButtonContainerElement.innerHTML = `\n<div id=\"df-ad8d55f2-1561-4ba1-af6d-0362aae95548\">\n  <button class=\"colab-df-quickchart\" onclick=\"quickchart('df-ad8d55f2-1561-4ba1-af6d-0362aae95548')\"\n            title=\"Suggest charts.\"\n            style=\"display:none;\">\n    \n<svg xmlns=\"http://www.w3.org/2000/svg\" height=\"24px\"viewBox=\"0 0 24 24\"\n     width=\"24px\">\n    <g>\n        <path d=\"M19 3H5c-1.1 0-2 .9-2 2v14c0 1.1.9 2 2 2h14c1.1 0 2-.9 2-2V5c0-1.1-.9-2-2-2zM9 17H7v-7h2v7zm4 0h-2V7h2v10zm4 0h-2v-4h2v4z\"/>\n    </g>\n</svg>\n  </button>\n  \n<style>\n  .colab-df-quickchart {\n      --bg-color: #E8F0FE;\n      --fill-color: #1967D2;\n      --hover-bg-color: #E2EBFA;\n      --hover-fill-color: #174EA6;\n      --disabled-fill-color: #AAA;\n      --disabled-bg-color: #DDD;\n  }\n\n  [theme=dark] .colab-df-quickchart {\n      --bg-color: #3B4455;\n      --fill-color: #D2E3FC;\n      --hover-bg-color: #434B5C;\n      --hover-fill-color: #FFFFFF;\n      --disabled-bg-color: #3B4455;\n      --disabled-fill-color: #666;\n  }\n\n  .colab-df-quickchart {\n    background-color: var(--bg-color);\n    border: none;\n    border-radius: 50%;\n    cursor: pointer;\n    display: none;\n    fill: var(--fill-color);\n    height: 32px;\n    padding: 0;\n    width: 32px;\n  }\n\n  .colab-df-quickchart:hover {\n    background-color: var(--hover-bg-color);\n    box-shadow: 0 1px 2px rgba(60, 64, 67, 0.3), 0 1px 3px 1px rgba(60, 64, 67, 0.15);\n    fill: var(--button-hover-fill-color);\n  }\n\n  .colab-df-quickchart-complete:disabled,\n  .colab-df-quickchart-complete:disabled:hover {\n    background-color: var(--disabled-bg-color);\n    fill: var(--disabled-fill-color);\n    box-shadow: none;\n  }\n\n  .colab-df-spinner {\n    border: 2px solid var(--fill-color);\n    border-color: transparent;\n    border-bottom-color: var(--fill-color);\n    animation:\n      spin 1s steps(1) infinite;\n  }\n\n  @keyframes spin {\n    0% {\n      border-color: transparent;\n      border-bottom-color: var(--fill-color);\n      border-left-color: var(--fill-color);\n    }\n    20% {\n      border-color: transparent;\n      border-left-color: var(--fill-color);\n      border-top-color: var(--fill-color);\n    }\n    30% {\n      border-color: transparent;\n      border-left-color: var(--fill-color);\n      border-top-color: var(--fill-color);\n      border-right-color: var(--fill-color);\n    }\n    40% {\n      border-color: transparent;\n      border-right-color: var(--fill-color);\n      border-top-color: var(--fill-color);\n    }\n    60% {\n      border-color: transparent;\n      border-right-color: var(--fill-color);\n    }\n    80% {\n      border-color: transparent;\n      border-right-color: var(--fill-color);\n      border-bottom-color: var(--fill-color);\n    }\n    90% {\n      border-color: transparent;\n      border-bottom-color: var(--fill-color);\n    }\n  }\n</style>\n\n  <script>\n    async function quickchart(key) {\n      const quickchartButtonEl =\n        document.querySelector('#' + key + ' button');\n      quickchartButtonEl.disabled = true;  // To prevent multiple clicks.\n      quickchartButtonEl.classList.add('colab-df-spinner');\n      try {\n        const charts = await google.colab.kernel.invokeFunction(\n            'suggestCharts', [key], {});\n      } catch (error) {\n        console.error('Error during call to suggestCharts:', error);\n      }\n      quickchartButtonEl.classList.remove('colab-df-spinner');\n      quickchartButtonEl.classList.add('colab-df-quickchart-complete');\n    }\n    (() => {\n      let quickchartButtonEl =\n        document.querySelector('#df-ad8d55f2-1561-4ba1-af6d-0362aae95548 button');\n      quickchartButtonEl.style.display =\n        google.colab.kernel.accessAllowed ? 'block' : 'none';\n    })();\n  </script>\n</div>`;\n        parentElement.appendChild(quickchartButtonContainerElement);\n      }\n\n      appendQuickchartButton(table);\n    ",
            "text/plain": [
              "<google.colab.data_table.DataTable object>"
            ]
          },
          "metadata": {},
          "execution_count": 15
        }
      ],
      "source": [
        "data_table.DataTable(df.head())"
      ]
    },
    {
      "cell_type": "code",
      "execution_count": null,
      "metadata": {
        "id": "VjbEadyfri9C",
        "colab": {
          "base_uri": "https://localhost:8080/",
          "height": 800
        },
        "outputId": "37429f66-5fbb-4bac-88c4-391961cb112e"
      },
      "outputs": [
        {
          "output_type": "display_data",
          "data": {
            "text/plain": [
              "<IPython.core.display.Javascript object>"
            ],
            "application/javascript": [
              "\n",
              "  for (rule of document.styleSheets[0].cssRules){\n",
              "    if (rule.selectorText=='body') {\n",
              "      rule.style.fontSize a= '25px'\n",
              "      rule.style.color = 'black'\n",
              "      break\n",
              "    }\n",
              "  }\n",
              "  "
            ]
          },
          "metadata": {}
        },
        {
          "output_type": "display_data",
          "data": {
            "text/plain": [
              "<Figure size 2000x1000 with 1 Axes>"
            ],
            "image/png": "[encoded data removed]"
          },
          "metadata": {}
        }
      ],
      "source": [
        "plt.figure(figsize=(20, 10))\n",
        "sns.set_style('darkgrid')\n",
        "crest_palette = ['#003B36', '#5EB1BF', '#A8C4A2', '#C4B1AE', '#F5CC7F']\n",
        "ax = sns.countplot(x='Sentiment', data=df, palette=crest_palette, order=df['Sentiment'].value_counts().index)\n",
        "\n",
        "# Add percentages to bars\n",
        "percentages = df['Sentiment'].value_counts(normalize=True).mul(100).round(2)\n",
        "for i, p in enumerate(ax.patches):\n",
        "    ax.annotate(f\"{percentages[i]:.2f}%\", (p.get_x() + 0.3, p.get_height() + 100), fontsize=10)\n",
        "\n",
        "plt.xlabel('Sentiment',fontdict={'fontsize': 20, 'color': 'black'})\n",
        "plt.ylabel('Count',fontdict={'fontsize': 20, 'color': 'black'})\n",
        "plt.title('Count of Sentiments', fontdict={'fontsize': 20, 'color': 'black'}, loc='center')\n",
        "\n",
        "plt.show()\n",
        "plt.close()"
      ]
    },
    {
      "cell_type": "code",
      "execution_count": null,
      "metadata": {
        "id": "kIn4ZN6ErpLr",
        "colab": {
          "base_uri": "https://localhost:8080/",
          "height": 86
        },
        "outputId": "64dc3b9d-d353-44fb-fba0-e5ba04d176d6"
      },
      "outputs": [
        {
          "output_type": "display_data",
          "data": {
            "text/plain": [
              "<IPython.core.display.Javascript object>"
            ],
            "application/javascript": [
              "\n",
              "  for (rule of document.styleSheets[0].cssRules){\n",
              "    if (rule.selectorText=='body') {\n",
              "      rule.style.fontSize a= '25px'\n",
              "      rule.style.color = 'black'\n",
              "      break\n",
              "    }\n",
              "  }\n",
              "  "
            ]
          },
          "metadata": {}
        },
        {
          "output_type": "execute_result",
          "data": {
            "text/plain": [
              "Positive    25808\n",
              "Neutral     17975\n",
              "Negative    16126\n",
              "Name: Sentiment, dtype: int64"
            ]
          },
          "metadata": {},
          "execution_count": 17
        }
      ],
      "source": [
        "df['Sentiment'].value_counts()"
      ]
    },
    {
      "cell_type": "code",
      "execution_count": null,
      "metadata": {
        "id": "fIkvGBETrr7a",
        "colab": {
          "base_uri": "https://localhost:8080/",
          "height": 520
        },
        "outputId": "761d3b50-13fa-4e2a-858a-d512e3d70551"
      },
      "outputs": [
        {
          "output_type": "display_data",
          "data": {
            "text/plain": [
              "<IPython.core.display.Javascript object>"
            ],
            "application/javascript": [
              "\n",
              "  for (rule of document.styleSheets[0].cssRules){\n",
              "    if (rule.selectorText=='body') {\n",
              "      rule.style.fontSize a= '25px'\n",
              "      rule.style.color = 'black'\n",
              "      break\n",
              "    }\n",
              "  }\n",
              "  "
            ]
          },
          "metadata": {}
        },
        {
          "output_type": "execute_result",
          "data": {
            "text/plain": [
              "Emotion   Sentiment\n",
              "anger     Negative     2868\n",
              "          Neutral      1972\n",
              "          Positive     1726\n",
              "disgust   Negative      324\n",
              "          Neutral       251\n",
              "          Positive      281\n",
              "fear      Negative     2405\n",
              "          Neutral      2296\n",
              "          Positive     2646\n",
              "joy       Negative     2271\n",
              "          Neutral      4425\n",
              "          Positive     9711\n",
              "love      Negative      458\n",
              "          Neutral       863\n",
              "          Positive     3825\n",
              "neutral   Negative      178\n",
              "          Neutral      1523\n",
              "          Positive      553\n",
              "sadness   Negative     6720\n",
              "          Neutral      4989\n",
              "          Positive     4844\n",
              "shame     Negative       46\n",
              "          Neutral        50\n",
              "          Positive       50\n",
              "surprise  Negative      856\n",
              "          Neutral      1606\n",
              "          Positive     2172\n",
              "dtype: int64"
            ]
          },
          "metadata": {},
          "execution_count": 18
        }
      ],
      "source": [
        "df.groupby(['Emotion','Sentiment']).size()"
      ]
    },
    {
      "cell_type": "code",
      "execution_count": null,
      "metadata": {
        "id": "O0u_9h7EPdCO",
        "colab": {
          "base_uri": "https://localhost:8080/",
          "height": 1000
        },
        "outputId": "00da1330-111b-4b2d-fa54-509017ae4a48"
      },
      "outputs": [
        {
          "output_type": "display_data",
          "data": {
            "text/plain": [
              "<IPython.core.display.Javascript object>"
            ],
            "application/javascript": [
              "\n",
              "  for (rule of document.styleSheets[0].cssRules){\n",
              "    if (rule.selectorText=='body') {\n",
              "      rule.style.fontSize a= '25px'\n",
              "      rule.style.color = 'black'\n",
              "      break\n",
              "    }\n",
              "  }\n",
              "  "
            ]
          },
          "metadata": {}
        },
        {
          "output_type": "display_data",
          "data": {
            "text/plain": [
              "<Figure size 2000x2000 with 9 Axes>"
            ],
            "image/png": "[encoded data removed]"
          },
          "metadata": {}
        }
      ],
      "source": [
        "# Define emotions and palette\n",
        "emotions = ['sadness', 'joy', 'fear', 'anger', 'love', 'surprise', 'neutral', 'disgust', 'shame']\n",
        "crest_palette = ['#003B36', '#5EB1BF', '#A8C4A2', '#C4B1AE', '#F5CC7F', '#FFB347', '#C2C2C2', '#B19CD9', '#FFA6C9']\n",
        "\n",
        "# Create grid of subplots\n",
        "fig, axes = plt.subplots(3, 3, figsize=(20, 20))\n",
        "\n",
        "# Loop through emotions and create countplots\n",
        "for i, emotion in enumerate(emotions):\n",
        "    row = i // 3\n",
        "    col = i % 3\n",
        "    df_filtered = df[df['Emotion'] == emotion]\n",
        "    ax = sns.countplot(x='Sentiment', data=df_filtered, palette=crest_palette, order=df_filtered['Sentiment'].value_counts().index, ax=axes[row, col])\n",
        "    ax.set_xlabel('Sentiment')\n",
        "    ax.set_ylabel('Count')\n",
        "    ax.set_title(f'{emotion.capitalize()}', fontsize=16)\n",
        "\n",
        "    # Add percentages to bars\n",
        "    percentages = df_filtered['Sentiment'].value_counts(normalize=True).mul(100).round(2)\n",
        "    for j, p in enumerate(ax.patches):\n",
        "        ax.annotate(f\"{percentages[j]:.2f}%\", (p.get_x() + 0.3, p.get_height()), fontsize=10)\n",
        "\n",
        "# Adjust spacing between subplots\n",
        "plt.subplots_adjust(hspace=0.5, wspace=0.3)\n",
        "\n",
        "# Set overall title\n",
        "plt.suptitle('Sentiment Count for Each Emotion', fontsize=24)\n",
        "\n",
        "plt.show()\n",
        "plt.close()"
      ]
    },
    {
      "cell_type": "code",
      "execution_count": null,
      "metadata": {
        "id": "ID52RnlOXaEI",
        "colab": {
          "base_uri": "https://localhost:8080/",
          "height": 17
        },
        "outputId": "3c5d1c29-4d94-4a75-ba33-c7383b8be8e7"
      },
      "outputs": [
        {
          "output_type": "display_data",
          "data": {
            "text/plain": [
              "<IPython.core.display.Javascript object>"
            ],
            "application/javascript": [
              "\n",
              "  for (rule of document.styleSheets[0].cssRules){\n",
              "    if (rule.selectorText=='body') {\n",
              "      rule.style.fontSize a= '25px'\n",
              "      rule.style.color = 'black'\n",
              "      break\n",
              "    }\n",
              "  }\n",
              "  "
            ]
          },
          "metadata": {}
        }
      ],
      "source": [
        "df = df[df.Emotion != 'disgust']\n",
        "df = df[df.Emotion != 'surprise']\n",
        "df = df[df.Emotion != 'shame']"
      ]
    },
    {
      "cell_type": "code",
      "execution_count": null,
      "metadata": {
        "id": "63VaI_fEe75G",
        "colab": {
          "base_uri": "https://localhost:8080/",
          "height": 104
        },
        "outputId": "f7edf576-99b7-4e60-f1e8-3dda5f49b3e7"
      },
      "outputs": [
        {
          "output_type": "display_data",
          "data": {
            "text/plain": [
              "<IPython.core.display.Javascript object>"
            ],
            "application/javascript": [
              "\n",
              "  for (rule of document.styleSheets[0].cssRules){\n",
              "    if (rule.selectorText=='body') {\n",
              "      rule.style.fontSize a= '25px'\n",
              "      rule.style.color = 'black'\n",
              "      break\n",
              "    }\n",
              "  }\n",
              "  "
            ]
          },
          "metadata": {}
        },
        {
          "output_type": "stream",
          "name": "stdout",
          "text": [
            "Collecting neattext\n",
            "  Downloading neattext-0.1.3-py3-none-any.whl (114 kB)\n",
            "\u001b[?25l     \u001b[90m━━━━━━━━━━━━━━━━━━━━━━━━━━━━━━━━━━━━━━━━\u001b[0m \u001b[32m0.0/114.7 kB\u001b[0m \u001b[31m?\u001b[0m eta \u001b[36m-:--:--\u001b[0m\r\u001b[2K     \u001b[91m━━━━━━━━━━━━━━━━━━━━━━━━━━━━━━━━━━━━━━\u001b[0m\u001b[90m╺\u001b[0m \u001b[32m112.6/114.7 kB\u001b[0m \u001b[31m3.7 MB/s\u001b[0m eta \u001b[36m0:00:01\u001b[0m\r\u001b[2K     \u001b[90m━━━━━━━━━━━━━━━━━━━━━━━━━━━━━━━━━━━━━━━\u001b[0m \u001b[32m114.7/114.7 kB\u001b[0m \u001b[31m3.0 MB/s\u001b[0m eta \u001b[36m0:00:00\u001b[0m\n",
            "\u001b[?25hInstalling collected packages: neattext\n",
            "Successfully installed neattext-0.1.3\n"
          ]
        }
      ],
      "source": [
        "!pip install neattext\n",
        "import neattext.functions as nfx"
      ]
    },
    {
      "cell_type": "code",
      "execution_count": null,
      "metadata": {
        "id": "hOOIphowfLMr",
        "colab": {
          "base_uri": "https://localhost:8080/",
          "height": 346
        },
        "outputId": "c2c16fd6-dba1-4842-c07d-3cb2295ed268"
      },
      "outputs": [
        {
          "output_type": "display_data",
          "data": {
            "text/plain": [
              "<IPython.core.display.Javascript object>"
            ],
            "application/javascript": [
              "\n",
              "  for (rule of document.styleSheets[0].cssRules){\n",
              "    if (rule.selectorText=='body') {\n",
              "      rule.style.fontSize a= '25px'\n",
              "      rule.style.color = 'black'\n",
              "      break\n",
              "    }\n",
              "  }\n",
              "  "
            ]
          },
          "metadata": {}
        },
        {
          "output_type": "stream",
          "name": "stderr",
          "text": [
            "[nltk_data] Downloading package stopwords to /root/nltk_data...\n",
            "[nltk_data]   Unzipping corpora/stopwords.zip.\n",
            "[nltk_data] Downloading package wordnet to /root/nltk_data...\n"
          ]
        },
        {
          "output_type": "execute_result",
          "data": {
            "text/html": [
              "<div>\n",
              "<style scoped>\n",
              "    .dataframe tbody tr th:only-of-type {\n",
              "        vertical-align: middle;\n",
              "    }\n",
              "\n",
              "    .dataframe tbody tr th {\n",
              "        vertical-align: top;\n",
              "    }\n",
              "\n",
              "    .dataframe thead th {\n",
              "        text-align: right;\n",
              "    }\n",
              "</style>\n",
              "<table border=\"1\" class=\"dataframe\">\n",
              "  <thead>\n",
              "    <tr style=\"text-align: right;\">\n",
              "      <th></th>\n",
              "      <th>Text</th>\n",
              "      <th>Clean_Text</th>\n",
              "    </tr>\n",
              "  </thead>\n",
              "  <tbody>\n",
              "    <tr>\n",
              "      <th>0</th>\n",
              "      <td>Why ?</td>\n",
              "      <td></td>\n",
              "    </tr>\n",
              "    <tr>\n",
              "      <th>1</th>\n",
              "      <td>Sage Act upgrade on my to do list for tommorow.</td>\n",
              "      <td>sage act upgrade list tommorow</td>\n",
              "    </tr>\n",
              "    <tr>\n",
              "      <th>2</th>\n",
              "      <td>ON THE WAY TO MY HOMEGIRL BABY FUNERAL!!! MAN ...</td>\n",
              "      <td>way homegirl baby funeral man hate funeral sho...</td>\n",
              "    </tr>\n",
              "    <tr>\n",
              "      <th>3</th>\n",
              "      <td>Such an eye ! The true hazel eye-and so brill...</td>\n",
              "      <td>eye true hazel eyeand brilliant regular featur...</td>\n",
              "    </tr>\n",
              "    <tr>\n",
              "      <th>4</th>\n",
              "      <td>@Iluvmiasantos ugh babe.. hugggzzz for u .!  b...</td>\n",
              "      <td>ugh babe hugggzzz u babe naamazed nga ako e ba...</td>\n",
              "    </tr>\n",
              "  </tbody>\n",
              "</table>\n",
              "</div>"
            ],
            "application/vnd.google.colaboratory.module+javascript": "\n      import \"https://ssl.gstatic.com/colaboratory/data_table/881c4a0d49046431/data_table.js\";\n\n      const table = window.createDataTable({\n        data: [[{\n            'v': 0,\n            'f': \"0\",\n        },\n\" Why ? \",\n\"\"],\n [{\n            'v': 1,\n            'f': \"1\",\n        },\n\"Sage Act upgrade on my to do list for tommorow.\",\n\"sage act upgrade list tommorow\"],\n [{\n            'v': 2,\n            'f': \"2\",\n        },\n\"ON THE WAY TO MY HOMEGIRL BABY FUNERAL!!! MAN I HATE FUNERALS THIS REALLY SHOWS ME HOW BLESSED I AM \",\n\"way homegirl baby funeral man hate funeral show blessed\"],\n [{\n            'v': 3,\n            'f': \"3\",\n        },\n\" Such an eye ! The true hazel eye-and so brilliant ! Regular features , open countenance , with a complexion , Oh ! What a bloom of full health , and such a pretty height and size ; such a firm and upright figure ! There is health , not merely in her bloom , but in her air , her head , her glance . One hears sometimes of a child being ' the picture of health ' ; now , she always gives me the idea of being the complete picture of grown-up health . She is loveliness itself . \",\n\"eye true hazel eyeand brilliant regular feature open countenance complexion oh bloom health pretty height size firm upright figure health merely bloom air head glance hears child picture health give idea complete picture grownup health loveliness\"],\n [{\n            'v': 4,\n            'f': \"4\",\n        },\n\"@Iluvmiasantos ugh babe.. hugggzzz for u .!  babe naamazed nga ako e babe e, despite nega's mas pinaramdam at fil ko ang \",\n\"ugh babe hugggzzz u babe naamazed nga ako e babe e despite negas ma pinaramdam fil ko ang\"]],\n        columns: [[\"number\", \"index\"], [\"string\", \"Text\"], [\"string\", \"Clean_Text\"]],\n        columnOptions: [{\"width\": \"1px\", \"className\": \"index_column\"}],\n        rowsPerPage: 25,\n        helpUrl: \"https://colab.research.google.com/notebooks/data_table.ipynb\",\n        suppressOutputScrolling: true,\n        minimumWidth: undefined,\n      });\n\n      function appendQuickchartButton(parentElement) {\n        let quickchartButtonContainerElement = document.createElement('div');\n        quickchartButtonContainerElement.innerHTML = `\n<div id=\"df-5ef2d01f-4a70-4881-9775-f0164d505629\">\n  <button class=\"colab-df-quickchart\" onclick=\"quickchart('df-5ef2d01f-4a70-4881-9775-f0164d505629')\"\n            title=\"Suggest charts.\"\n            style=\"display:none;\">\n    \n<svg xmlns=\"http://www.w3.org/2000/svg\" height=\"24px\"viewBox=\"0 0 24 24\"\n     width=\"24px\">\n    <g>\n        <path d=\"M19 3H5c-1.1 0-2 .9-2 2v14c0 1.1.9 2 2 2h14c1.1 0 2-.9 2-2V5c0-1.1-.9-2-2-2zM9 17H7v-7h2v7zm4 0h-2V7h2v10zm4 0h-2v-4h2v4z\"/>\n    </g>\n</svg>\n  </button>\n  \n<style>\n  .colab-df-quickchart {\n      --bg-color: #E8F0FE;\n      --fill-color: #1967D2;\n      --hover-bg-color: #E2EBFA;\n      --hover-fill-color: #174EA6;\n      --disabled-fill-color: #AAA;\n      --disabled-bg-color: #DDD;\n  }\n\n  [theme=dark] .colab-df-quickchart {\n      --bg-color: #3B4455;\n      --fill-color: #D2E3FC;\n      --hover-bg-color: #434B5C;\n      --hover-fill-color: #FFFFFF;\n      --disabled-bg-color: #3B4455;\n      --disabled-fill-color: #666;\n  }\n\n  .colab-df-quickchart {\n    background-color: var(--bg-color);\n    border: none;\n    border-radius: 50%;\n    cursor: pointer;\n    display: none;\n    fill: var(--fill-color);\n    height: 32px;\n    padding: 0;\n    width: 32px;\n  }\n\n  .colab-df-quickchart:hover {\n    background-color: var(--hover-bg-color);\n    box-shadow: 0 1px 2px rgba(60, 64, 67, 0.3), 0 1px 3px 1px rgba(60, 64, 67, 0.15);\n    fill: var(--button-hover-fill-color);\n  }\n\n  .colab-df-quickchart-complete:disabled,\n  .colab-df-quickchart-complete:disabled:hover {\n    background-color: var(--disabled-bg-color);\n    fill: var(--disabled-fill-color);\n    box-shadow: none;\n  }\n\n  .colab-df-spinner {\n    border: 2px solid var(--fill-color);\n    border-color: transparent;\n    border-bottom-color: var(--fill-color);\n    animation:\n      spin 1s steps(1) infinite;\n  }\n\n  @keyframes spin {\n    0% {\n      border-color: transparent;\n      border-bottom-color: var(--fill-color);\n      border-left-color: var(--fill-color);\n    }\n    20% {\n      border-color: transparent;\n      border-left-color: var(--fill-color);\n      border-top-color: var(--fill-color);\n    }\n    30% {\n      border-color: transparent;\n      border-left-color: var(--fill-color);\n      border-top-color: var(--fill-color);\n      border-right-color: var(--fill-color);\n    }\n    40% {\n      border-color: transparent;\n      border-right-color: var(--fill-color);\n      border-top-color: var(--fill-color);\n    }\n    60% {\n      border-color: transparent;\n      border-right-color: var(--fill-color);\n    }\n    80% {\n      border-color: transparent;\n      border-right-color: var(--fill-color);\n      border-bottom-color: var(--fill-color);\n    }\n    90% {\n      border-color: transparent;\n      border-bottom-color: var(--fill-color);\n    }\n  }\n</style>\n\n  <script>\n    async function quickchart(key) {\n      const quickchartButtonEl =\n        document.querySelector('#' + key + ' button');\n      quickchartButtonEl.disabled = true;  // To prevent multiple clicks.\n      quickchartButtonEl.classList.add('colab-df-spinner');\n      try {\n        const charts = await google.colab.kernel.invokeFunction(\n            'suggestCharts', [key], {});\n      } catch (error) {\n        console.error('Error during call to suggestCharts:', error);\n      }\n      quickchartButtonEl.classList.remove('colab-df-spinner');\n      quickchartButtonEl.classList.add('colab-df-quickchart-complete');\n    }\n    (() => {\n      let quickchartButtonEl =\n        document.querySelector('#df-5ef2d01f-4a70-4881-9775-f0164d505629 button');\n      quickchartButtonEl.style.display =\n        google.colab.kernel.accessAllowed ? 'block' : 'none';\n    })();\n  </script>\n</div>`;\n        parentElement.appendChild(quickchartButtonContainerElement);\n      }\n\n      appendQuickchartButton(table);\n    ",
            "text/plain": [
              "<google.colab.data_table.DataTable object>"
            ]
          },
          "metadata": {},
          "execution_count": 22
        }
      ],
      "source": [
        "nltk.download(\"stopwords\")\n",
        "nltk.download(\"wordnet\")\n",
        "\n",
        "def clean_sentence(sentence):\n",
        "    # Remove special characters and numbers\n",
        "    sentence = re.sub(r'[^a-zA-Z]', ' ', sentence)\n",
        "    # Convert to lowercase\n",
        "    sentence = sentence.lower()\n",
        "    # Remove URLs\n",
        "    sentence = re.sub(r'http\\S+', '', sentence)\n",
        "    # Split into words\n",
        "    sentence = sentence.split()\n",
        "    # Perform lemmatization\n",
        "    lemmatizer = WordNetLemmatizer()\n",
        "    sentence = [lemmatizer.lemmatize(word) for word in sentence]\n",
        "    # Join the words back together\n",
        "    sentence = ' '.join(sentence)\n",
        "    return sentence\n",
        "\n",
        "\n",
        "df['Clean_Text'] = df['Text'].apply(nfx.remove_punctuations)\n",
        "df['Clean_Text'] = df['Clean_Text'].apply(nfx.remove_stopwords)\n",
        "df['Clean_Text'] = df['Clean_Text'].apply(nfx.remove_userhandles)\n",
        "df['Clean_Text'] = df['Clean_Text'].apply(lambda x: clean_sentence(x))\n",
        "\n",
        "\n",
        "data_table.DataTable(df[['Text','Clean_Text']].head())"
      ]
    },
    {
      "cell_type": "code",
      "execution_count": null,
      "metadata": {
        "id": "iKBr_DYb49-n",
        "colab": {
          "base_uri": "https://localhost:8080/",
          "height": 104
        },
        "outputId": "5de7552c-cb7b-442d-b7d5-358360af105f"
      },
      "outputs": [
        {
          "output_type": "display_data",
          "data": {
            "text/plain": [
              "<IPython.core.display.Javascript object>"
            ],
            "application/javascript": [
              "\n",
              "  for (rule of document.styleSheets[0].cssRules){\n",
              "    if (rule.selectorText=='body') {\n",
              "      rule.style.fontSize a= '25px'\n",
              "      rule.style.color = 'black'\n",
              "      break\n",
              "    }\n",
              "  }\n",
              "  "
            ]
          },
          "metadata": {}
        },
        {
          "output_type": "execute_result",
          "data": {
            "text/plain": [
              "Emotion       0\n",
              "Text          0\n",
              "Sentiment     0\n",
              "Clean_Text    0\n",
              "dtype: int64"
            ]
          },
          "metadata": {},
          "execution_count": 23
        }
      ],
      "source": [
        "df.isnull().sum()"
      ]
    },
    {
      "cell_type": "code",
      "execution_count": null,
      "metadata": {
        "id": "SAniUs7Br9uh",
        "colab": {
          "base_uri": "https://localhost:8080/",
          "height": 17
        },
        "outputId": "8b0433e4-e804-4bbb-a9ba-d7d7e7b406c5"
      },
      "outputs": [
        {
          "output_type": "display_data",
          "data": {
            "text/plain": [
              "<IPython.core.display.Javascript object>"
            ],
            "application/javascript": [
              "\n",
              "  for (rule of document.styleSheets[0].cssRules){\n",
              "    if (rule.selectorText=='body') {\n",
              "      rule.style.fontSize a= '25px'\n",
              "      rule.style.color = 'black'\n",
              "      break\n",
              "    }\n",
              "  }\n",
              "  "
            ]
          },
          "metadata": {}
        }
      ],
      "source": [
        "def extract_keywords(text,num = 50):\n",
        "  tokens = [ tok for tok in text.split()]\n",
        "  most_common_tokens = Counter(tokens).most_common(num)\n",
        "  return dict(most_common_tokens)"
      ]
    },
    {
      "cell_type": "code",
      "execution_count": null,
      "metadata": {
        "id": "HT9SV_Fgr_zy",
        "colab": {
          "base_uri": "https://localhost:8080/",
          "height": 34
        },
        "outputId": "fd1df8b4-040d-48b2-f4ae-1945a71a3b1a"
      },
      "outputs": [
        {
          "output_type": "display_data",
          "data": {
            "text/plain": [
              "<IPython.core.display.Javascript object>"
            ],
            "application/javascript": [
              "\n",
              "  for (rule of document.styleSheets[0].cssRules){\n",
              "    if (rule.selectorText=='body') {\n",
              "      rule.style.fontSize a= '25px'\n",
              "      rule.style.color = 'black'\n",
              "      break\n",
              "    }\n",
              "  }\n",
              "  "
            ]
          },
          "metadata": {}
        },
        {
          "output_type": "execute_result",
          "data": {
            "text/plain": [
              "['neutral', 'joy', 'sadness', 'fear', 'anger', 'love']"
            ]
          },
          "metadata": {},
          "execution_count": 25
        }
      ],
      "source": [
        "emotion_list = df['Emotion'].unique().tolist()\n",
        "emotion_list"
      ]
    },
    {
      "cell_type": "code",
      "execution_count": null,
      "metadata": {
        "id": "iAHyG8PpsCUQ",
        "colab": {
          "base_uri": "https://localhost:8080/",
          "height": 17
        },
        "outputId": "88ac8134-785b-4d51-db37-a695624438fd"
      },
      "outputs": [
        {
          "output_type": "display_data",
          "data": {
            "text/plain": [
              "<IPython.core.display.Javascript object>"
            ],
            "application/javascript": [
              "\n",
              "  for (rule of document.styleSheets[0].cssRules){\n",
              "    if (rule.selectorText=='body') {\n",
              "      rule.style.fontSize a= '25px'\n",
              "      rule.style.color = 'black'\n",
              "      break\n",
              "    }\n",
              "  }\n",
              "  "
            ]
          },
          "metadata": {}
        }
      ],
      "source": [
        "joy_list = df[df['Emotion'] == 'joy']['Clean_Text']"
      ]
    },
    {
      "cell_type": "code",
      "execution_count": null,
      "metadata": {
        "id": "e__HtlSysFCe",
        "colab": {
          "base_uri": "https://localhost:8080/",
          "height": 17
        },
        "outputId": "0c05d0dd-db12-40cb-fcfc-8d27f403f41b"
      },
      "outputs": [
        {
          "output_type": "display_data",
          "data": {
            "text/plain": [
              "<IPython.core.display.Javascript object>"
            ],
            "application/javascript": [
              "\n",
              "  for (rule of document.styleSheets[0].cssRules){\n",
              "    if (rule.selectorText=='body') {\n",
              "      rule.style.fontSize a= '25px'\n",
              "      rule.style.color = 'black'\n",
              "      break\n",
              "    }\n",
              "  }\n",
              "  "
            ]
          },
          "metadata": {}
        }
      ],
      "source": [
        "joy_docs = ' '.join(joy_list)"
      ]
    },
    {
      "cell_type": "code",
      "execution_count": null,
      "metadata": {
        "id": "OcM9Vem6sGuC",
        "colab": {
          "base_uri": "https://localhost:8080/",
          "height": 17
        },
        "outputId": "40c96aad-d7d6-409d-ae9b-a3ffa6f13c90"
      },
      "outputs": [
        {
          "output_type": "display_data",
          "data": {
            "text/plain": [
              "<IPython.core.display.Javascript object>"
            ],
            "application/javascript": [
              "\n",
              "  for (rule of document.styleSheets[0].cssRules){\n",
              "    if (rule.selectorText=='body') {\n",
              "      rule.style.fontSize a= '25px'\n",
              "      rule.style.color = 'black'\n",
              "      break\n",
              "    }\n",
              "  }\n",
              "  "
            ]
          },
          "metadata": {}
        }
      ],
      "source": [
        "keyword_joy = extract_keywords(joy_docs)"
      ]
    },
    {
      "cell_type": "code",
      "execution_count": null,
      "metadata": {
        "id": "jOcpAe1JsIVI",
        "colab": {
          "base_uri": "https://localhost:8080/",
          "height": 17
        },
        "outputId": "b84a3456-0cb0-4b6f-b7d0-482b8a107a7d"
      },
      "outputs": [
        {
          "output_type": "display_data",
          "data": {
            "text/plain": [
              "<IPython.core.display.Javascript object>"
            ],
            "application/javascript": [
              "\n",
              "  for (rule of document.styleSheets[0].cssRules){\n",
              "    if (rule.selectorText=='body') {\n",
              "      rule.style.fontSize a= '25px'\n",
              "      rule.style.color = 'black'\n",
              "      break\n",
              "    }\n",
              "  }\n",
              "  "
            ]
          },
          "metadata": {}
        }
      ],
      "source": [
        "def plot_most_common_words(mydict):\n",
        "  x = mydict.items()\n",
        "  df_01 = pd.DataFrame(x,columns=[\"token\",\"count\"])\n",
        "  crest_palette = ['#003B36', '#5EB1BF', '#A8C4A2', '#C4B1AE', '#F5CC7F']\n",
        "  plt.figure(figsize = (20,10))\n",
        "  plt.title('Most Common Words', fontdict={'fontsize': 20, 'color': 'blue'}, loc='center')\n",
        "  ax = sns.barplot(x='token',y='count',data = df_01, palette=crest_palette )\n",
        "  ax.set_xlabel('Token', fontsize=16, color='black')\n",
        "  ax.set_ylabel('Count', fontsize=16, color='black')\n",
        "  plt.xticks(rotation=45, fontsize=12, color='black')\n",
        "  plt.yticks(fontsize=12, color='black')\n",
        "  plt.show()"
      ]
    },
    {
      "cell_type": "code",
      "execution_count": null,
      "metadata": {
        "id": "7e6Rs5wXsKST",
        "colab": {
          "base_uri": "https://localhost:8080/",
          "height": 848
        },
        "outputId": "3ef1e29a-c882-4535-882b-c5d55aa635ca"
      },
      "outputs": [
        {
          "output_type": "display_data",
          "data": {
            "text/plain": [
              "<IPython.core.display.Javascript object>"
            ],
            "application/javascript": [
              "\n",
              "  for (rule of document.styleSheets[0].cssRules){\n",
              "    if (rule.selectorText=='body') {\n",
              "      rule.style.fontSize a= '25px'\n",
              "      rule.style.color = 'black'\n",
              "      break\n",
              "    }\n",
              "  }\n",
              "  "
            ]
          },
          "metadata": {}
        },
        {
          "output_type": "display_data",
          "data": {
            "text/plain": [
              "<Figure size 2000x1000 with 1 Axes>"
            ],
            "image/png": "[encoded data removed]"
          },
          "metadata": {}
        }
      ],
      "source": [
        "plot_most_common_words(keyword_joy)"
      ]
    },
    {
      "cell_type": "code",
      "execution_count": null,
      "metadata": {
        "id": "l0C0KUFusNYk",
        "colab": {
          "base_uri": "https://localhost:8080/",
          "height": 885
        },
        "outputId": "c4222208-daa1-42a3-c975-e965c6e5f343"
      },
      "outputs": [
        {
          "output_type": "display_data",
          "data": {
            "text/plain": [
              "<IPython.core.display.Javascript object>"
            ],
            "application/javascript": [
              "\n",
              "  for (rule of document.styleSheets[0].cssRules){\n",
              "    if (rule.selectorText=='body') {\n",
              "      rule.style.fontSize a= '25px'\n",
              "      rule.style.color = 'black'\n",
              "      break\n",
              "    }\n",
              "  }\n",
              "  "
            ]
          },
          "metadata": {}
        },
        {
          "output_type": "execute_result",
          "data": {
            "text/plain": [
              "{'feel': 3802,\n",
              " 'im': 2042,\n",
              " 'feeling': 1848,\n",
              " 'like': 1479,\n",
              " 'day': 1021,\n",
              " 'sad': 872,\n",
              " 'time': 842,\n",
              " 'dont': 734,\n",
              " 'know': 684,\n",
              " 'cant': 630,\n",
              " 'friend': 602,\n",
              " 'work': 598,\n",
              " 'miss': 587,\n",
              " 'today': 571,\n",
              " 'going': 538,\n",
              " 'want': 525,\n",
              " 'got': 497,\n",
              " 'sorry': 488,\n",
              " 'think': 462,\n",
              " 'good': 461,\n",
              " 'people': 452,\n",
              " 'thing': 441,\n",
              " 'home': 440,\n",
              " 'life': 433,\n",
              " 'love': 409,\n",
              " 'year': 407,\n",
              " 'bad': 394,\n",
              " 'didnt': 391,\n",
              " 'ive': 376,\n",
              " 'need': 348,\n",
              " 'week': 336,\n",
              " 'felt': 330,\n",
              " 'little': 324,\n",
              " 'night': 322,\n",
              " 'way': 318,\n",
              " 'right': 315,\n",
              " 'wish': 301,\n",
              " 'oh': 296,\n",
              " 'away': 289,\n",
              " 'left': 289,\n",
              " 'u': 281,\n",
              " 'hate': 278,\n",
              " 'died': 275,\n",
              " 'school': 266,\n",
              " 'lost': 261,\n",
              " 'new': 261,\n",
              " 'come': 260,\n",
              " 'ill': 258,\n",
              " 'amp': 249,\n",
              " 'thought': 245}"
            ]
          },
          "metadata": {},
          "execution_count": 31
        }
      ],
      "source": [
        "sadness_list = df[df['Emotion'] == 'sadness']['Clean_Text']\n",
        "sadness_docs = ' '.join(sadness_list)\n",
        "keyword_sadness = extract_keywords(sadness_docs)\n",
        "keyword_sadness"
      ]
    },
    {
      "cell_type": "code",
      "execution_count": null,
      "metadata": {
        "id": "-OYXNpQBsQff",
        "colab": {
          "base_uri": "https://localhost:8080/",
          "height": 831
        },
        "outputId": "6f1e50c2-1e15-4866-95ab-cccfb7ae8622"
      },
      "outputs": [
        {
          "output_type": "display_data",
          "data": {
            "text/plain": [
              "<IPython.core.display.Javascript object>"
            ],
            "application/javascript": [
              "\n",
              "  for (rule of document.styleSheets[0].cssRules){\n",
              "    if (rule.selectorText=='body') {\n",
              "      rule.style.fontSize a= '25px'\n",
              "      rule.style.color = 'black'\n",
              "      break\n",
              "    }\n",
              "  }\n",
              "  "
            ]
          },
          "metadata": {}
        },
        {
          "output_type": "display_data",
          "data": {
            "text/plain": [
              "<Figure size 2000x1000 with 1 Axes>"
            ],
            "image/png": "[encoded data removed]"
          },
          "metadata": {}
        }
      ],
      "source": [
        "plot_most_common_words(keyword_sadness)"
      ]
    },
    {
      "cell_type": "markdown",
      "metadata": {
        "id": "oYXtJC8I5nv0"
      },
      "source": [
        "<h1><b>Modeling</b></h1>"
      ]
    },
    {
      "cell_type": "code",
      "execution_count": null,
      "metadata": {
        "id": "LXUptkBaUxRU",
        "colab": {
          "base_uri": "https://localhost:8080/",
          "height": 17
        },
        "outputId": "d592e7d0-4e35-4cde-8636-5a6b53ef3870"
      },
      "outputs": [
        {
          "output_type": "display_data",
          "data": {
            "text/plain": [
              "<IPython.core.display.Javascript object>"
            ],
            "application/javascript": [
              "\n",
              "  for (rule of document.styleSheets[0].cssRules){\n",
              "    if (rule.selectorText=='body') {\n",
              "      rule.style.fontSize a= '25px'\n",
              "      rule.style.color = 'black'\n",
              "      break\n",
              "    }\n",
              "  }\n",
              "  "
            ]
          },
          "metadata": {}
        }
      ],
      "source": [
        "from sklearn.feature_extraction.text import CountVectorizer\n",
        "from sklearn.naive_bayes import MultinomialNB\n",
        "from sklearn.linear_model import LogisticRegression\n",
        "from sklearn.ensemble import RandomForestClassifier\n",
        "from sklearn.svm import SVC\n",
        "from sklearn.metrics import accuracy_score\n",
        "from sklearn.model_selection import train_test_split\n",
        "from sklearn.metrics import classification_report"
      ]
    },
    {
      "cell_type": "code",
      "execution_count": null,
      "metadata": {
        "id": "1LeIb4icXRiS",
        "colab": {
          "base_uri": "https://localhost:8080/",
          "height": 17
        },
        "outputId": "e6d01c47-9dca-437d-f972-c9c4915482ce"
      },
      "outputs": [
        {
          "output_type": "display_data",
          "data": {
            "text/plain": [
              "<IPython.core.display.Javascript object>"
            ],
            "application/javascript": [
              "\n",
              "  for (rule of document.styleSheets[0].cssRules){\n",
              "    if (rule.selectorText=='body') {\n",
              "      rule.style.fontSize a= '25px'\n",
              "      rule.style.color = 'black'\n",
              "      break\n",
              "    }\n",
              "  }\n",
              "  "
            ]
          },
          "metadata": {}
        }
      ],
      "source": [
        "# # Load data\n",
        "# data = df\n",
        "\n",
        "# # Split data into training, validation, and testing sets\n",
        "# train_data, test_data, train_labels, test_labels = train_test_split(data['Clean_Text'], data['Emotion'], test_size=0.2, random_state=42)\n",
        "# train_data, val_data, train_labels, val_labels = train_test_split(train_data, train_labels, test_size=0.2, random_state=42)\n",
        "\n",
        "# # Vectorize text data using CountVectorizer\n",
        "# vectorizer = CountVectorizer()\n",
        "# train_features = vectorizer.fit_transform(train_data)\n",
        "# val_features = vectorizer.transform(val_data)\n",
        "# test_features = vectorizer.transform(test_data)\n",
        "\n",
        "# Load data\n",
        "data = df\n",
        "\n",
        "# Replace \"love\" with \"joy\" in the 'Emotion' column\n",
        "data['Emotion'] = data['Emotion'].replace('love', 'joy')\n",
        "\n",
        "# Split data into training, validation, and testing sets\n",
        "train_data, test_data, train_labels, test_labels = train_test_split(data['Clean_Text'], data['Emotion'], test_size=0.2, random_state=42)\n",
        "train_data, val_data, train_labels, val_labels = train_test_split(train_data, train_labels, test_size=0.2, random_state=42)\n",
        "\n",
        "# Vectorize text data using CountVectorizer\n",
        "vectorizer = CountVectorizer()\n",
        "train_features = vectorizer.fit_transform(train_data)\n",
        "val_features = vectorizer.transform(val_data)\n",
        "test_features = vectorizer.transform(test_data)"
      ]
    },
    {
      "cell_type": "code",
      "execution_count": null,
      "metadata": {
        "id": "nsPqQkRmXUhb",
        "colab": {
          "base_uri": "https://localhost:8080/",
          "height": 52
        },
        "outputId": "1e1bc5e0-713f-4d29-d90c-8b5d498aceb3"
      },
      "outputs": [
        {
          "output_type": "display_data",
          "data": {
            "text/plain": [
              "<IPython.core.display.Javascript object>"
            ],
            "application/javascript": [
              "\n",
              "  for (rule of document.styleSheets[0].cssRules){\n",
              "    if (rule.selectorText=='body') {\n",
              "      rule.style.fontSize a= '25px'\n",
              "      rule.style.color = 'black'\n",
              "      break\n",
              "    }\n",
              "  }\n",
              "  "
            ]
          },
          "metadata": {}
        },
        {
          "output_type": "stream",
          "name": "stdout",
          "text": [
            "Validation Accuracy (Naive Bayes): 68.11%\n",
            "Testing Accuracy (Naive Bayes): 68.69%\n"
          ]
        }
      ],
      "source": [
        "# Train a Naive Bayes model\n",
        "nb = MultinomialNB()\n",
        "nb.fit(train_features, train_labels)\n",
        "\n",
        "# Make predictions on the validation and test sets\n",
        "val_predictions = nb.predict(val_features)\n",
        "test_predictions = nb.predict(test_features)\n",
        "\n",
        "# Evaluate model performance on validation and test sets\n",
        "val_accuracy = accuracy_score(val_labels, val_predictions)\n",
        "test_accuracy = accuracy_score(test_labels, test_predictions)\n",
        "\n",
        "print(\"Validation Accuracy (Naive Bayes): {:.2f}%\".format(val_accuracy * 100))\n",
        "print(\"Testing Accuracy (Naive Bayes): {:.2f}%\".format(test_accuracy * 100))"
      ]
    },
    {
      "cell_type": "code",
      "execution_count": null,
      "metadata": {
        "id": "Cl577jqXVF2x",
        "colab": {
          "base_uri": "https://localhost:8080/",
          "height": 468
        },
        "outputId": "ae21f04d-c9b0-4c3d-a175-16977ad5bfb1"
      },
      "outputs": [
        {
          "output_type": "display_data",
          "data": {
            "text/plain": [
              "<IPython.core.display.Javascript object>"
            ],
            "application/javascript": [
              "\n",
              "  for (rule of document.styleSheets[0].cssRules){\n",
              "    if (rule.selectorText=='body') {\n",
              "      rule.style.fontSize a= '25px'\n",
              "      rule.style.color = 'black'\n",
              "      break\n",
              "    }\n",
              "  }\n",
              "  "
            ]
          },
          "metadata": {}
        },
        {
          "output_type": "stream",
          "name": "stdout",
          "text": [
            "Classification Report (Validation Set):\n",
            "               precision    recall  f1-score   support\n",
            "\n",
            "       anger       0.80      0.44      0.57      1096\n",
            "        fear       0.80      0.52      0.63      1174\n",
            "         joy       0.67      0.86      0.76      3476\n",
            "     neutral       0.60      0.01      0.02       351\n",
            "     sadness       0.64      0.71      0.67      2587\n",
            "\n",
            "    accuracy                           0.68      8684\n",
            "   macro avg       0.70      0.51      0.53      8684\n",
            "weighted avg       0.69      0.68      0.66      8684\n",
            "\n",
            "Classification Report (Test Set):\n",
            "               precision    recall  f1-score   support\n",
            "\n",
            "       anger       0.77      0.44      0.56      1264\n",
            "        fear       0.80      0.54      0.64      1475\n",
            "         joy       0.68      0.86      0.76      4344\n",
            "     neutral       0.67      0.01      0.02       455\n",
            "     sadness       0.66      0.71      0.68      3317\n",
            "\n",
            "    accuracy                           0.69     10855\n",
            "   macro avg       0.71      0.51      0.53     10855\n",
            "weighted avg       0.70      0.69      0.67     10855\n",
            "\n"
          ]
        }
      ],
      "source": [
        "# Generate classification report for validation set\n",
        "val_report = classification_report(val_labels, val_predictions)\n",
        "print(\"Classification Report (Validation Set):\\n\", val_report)\n",
        "\n",
        "# Generate classification report for test set\n",
        "test_report = classification_report(test_labels, test_predictions)\n",
        "print(\"Classification Report (Test Set):\\n\", test_report)"
      ]
    },
    {
      "cell_type": "code",
      "execution_count": null,
      "metadata": {
        "id": "8UP2gHGtSdYc",
        "colab": {
          "base_uri": "https://localhost:8080/",
          "height": 52
        },
        "outputId": "3ca13b7b-5d8e-4733-f509-faa5ea27baf0"
      },
      "outputs": [
        {
          "output_type": "display_data",
          "data": {
            "text/plain": [
              "<IPython.core.display.Javascript object>"
            ],
            "application/javascript": [
              "\n",
              "  for (rule of document.styleSheets[0].cssRules){\n",
              "    if (rule.selectorText=='body') {\n",
              "      rule.style.fontSize a= '25px'\n",
              "      rule.style.color = 'black'\n",
              "      break\n",
              "    }\n",
              "  }\n",
              "  "
            ]
          },
          "metadata": {}
        },
        {
          "output_type": "stream",
          "name": "stdout",
          "text": [
            "Validation Accuracy: 74.22%\n",
            "Testing Accuracy: 73.89%\n"
          ]
        }
      ],
      "source": [
        "# Train a Logistic Regression model\n",
        "lr = LogisticRegression(max_iter=1000)\n",
        "lr.fit(train_features, train_labels)\n",
        "\n",
        "# Make predictions on the validation and test sets\n",
        "val_predictions = lr.predict(val_features)\n",
        "test_predictions = lr.predict(test_features)\n",
        "\n",
        "# Evaluate model performance on validation and test sets\n",
        "val_accuracy = accuracy_score(val_labels, val_predictions)\n",
        "test_accuracy = accuracy_score(test_labels, test_predictions)\n",
        "\n",
        "print(\"Validation Accuracy: {:.2f}%\".format(val_accuracy * 100))\n",
        "print(\"Testing Accuracy: {:.2f}%\".format(test_accuracy * 100))"
      ]
    },
    {
      "cell_type": "code",
      "execution_count": null,
      "metadata": {
        "id": "IxzgRHpDVNLs",
        "colab": {
          "base_uri": "https://localhost:8080/",
          "height": 468
        },
        "outputId": "98a3e5c0-e26d-455d-80d0-95c8e9dbd938"
      },
      "outputs": [
        {
          "output_type": "display_data",
          "data": {
            "text/plain": [
              "<IPython.core.display.Javascript object>"
            ],
            "application/javascript": [
              "\n",
              "  for (rule of document.styleSheets[0].cssRules){\n",
              "    if (rule.selectorText=='body') {\n",
              "      rule.style.fontSize a= '25px'\n",
              "      rule.style.color = 'black'\n",
              "      break\n",
              "    }\n",
              "  }\n",
              "  "
            ]
          },
          "metadata": {}
        },
        {
          "output_type": "stream",
          "name": "stdout",
          "text": [
            "Classification Report (Validation Set):\n",
            "               precision    recall  f1-score   support\n",
            "\n",
            "       anger       0.78      0.58      0.67      1096\n",
            "        fear       0.81      0.67      0.73      1174\n",
            "         joy       0.76      0.84      0.80      3476\n",
            "     neutral       0.58      0.65      0.61       351\n",
            "     sadness       0.70      0.73      0.71      2587\n",
            "\n",
            "    accuracy                           0.74      8684\n",
            "   macro avg       0.73      0.69      0.70      8684\n",
            "weighted avg       0.75      0.74      0.74      8684\n",
            "\n",
            "Classification Report (Test Set):\n",
            "               precision    recall  f1-score   support\n",
            "\n",
            "       anger       0.75      0.60      0.67      1264\n",
            "        fear       0.78      0.68      0.73      1475\n",
            "         joy       0.75      0.83      0.79      4344\n",
            "     neutral       0.63      0.67      0.65       455\n",
            "     sadness       0.72      0.71      0.72      3317\n",
            "\n",
            "    accuracy                           0.74     10855\n",
            "   macro avg       0.73      0.70      0.71     10855\n",
            "weighted avg       0.74      0.74      0.74     10855\n",
            "\n"
          ]
        }
      ],
      "source": [
        "# Generate classification report for validation set\n",
        "val_report = classification_report(val_labels, val_predictions)\n",
        "print(\"Classification Report (Validation Set):\\n\", val_report)\n",
        "\n",
        "# Generate classification report for test set\n",
        "test_report = classification_report(test_labels, test_predictions)\n",
        "print(\"Classification Report (Test Set):\\n\", test_report)"
      ]
    },
    {
      "cell_type": "code",
      "execution_count": null,
      "metadata": {
        "id": "QgXY11Kwt_m1",
        "colab": {
          "base_uri": "https://localhost:8080/",
          "height": 52
        },
        "outputId": "d15eea1c-946a-401c-dd10-a1c931e8973f"
      },
      "outputs": [
        {
          "output_type": "display_data",
          "data": {
            "text/plain": [
              "<IPython.core.display.Javascript object>"
            ],
            "application/javascript": [
              "\n",
              "  for (rule of document.styleSheets[0].cssRules){\n",
              "    if (rule.selectorText=='body') {\n",
              "      rule.style.fontSize a= '25px'\n",
              "      rule.style.color = 'black'\n",
              "      break\n",
              "    }\n",
              "  }\n",
              "  "
            ]
          },
          "metadata": {}
        },
        {
          "output_type": "stream",
          "name": "stdout",
          "text": [
            "Validation Accuracy (L1 regularization): 73.02%\n",
            "Testing Accuracy (L1 regularization): 73.18%\n"
          ]
        }
      ],
      "source": [
        "# Train a Logistic Regression model with L1 regularization\n",
        "lr_l1 = LogisticRegression(max_iter=1000, penalty='l1', solver='liblinear')\n",
        "lr_l1.fit(train_features, train_labels)\n",
        "\n",
        "# Make predictions on the validation and test sets\n",
        "val_predictions = lr_l1.predict(val_features)\n",
        "test_predictions = lr_l1.predict(test_features)\n",
        "\n",
        "# Evaluate model performance on validation and test sets\n",
        "val_accuracy = accuracy_score(val_labels, val_predictions)\n",
        "test_accuracy = accuracy_score(test_labels, test_predictions)\n",
        "\n",
        "print(\"Validation Accuracy (L1 regularization): {:.2f}%\".format(val_accuracy * 100))\n",
        "print(\"Testing Accuracy (L1 regularization): {:.2f}%\".format(test_accuracy * 100))"
      ]
    },
    {
      "cell_type": "code",
      "execution_count": null,
      "metadata": {
        "id": "qts9iPk7VPJt",
        "colab": {
          "base_uri": "https://localhost:8080/",
          "height": 468
        },
        "outputId": "4cad92d5-0431-41e9-a33e-e54803f91037"
      },
      "outputs": [
        {
          "output_type": "display_data",
          "data": {
            "text/plain": [
              "<IPython.core.display.Javascript object>"
            ],
            "application/javascript": [
              "\n",
              "  for (rule of document.styleSheets[0].cssRules){\n",
              "    if (rule.selectorText=='body') {\n",
              "      rule.style.fontSize a= '25px'\n",
              "      rule.style.color = 'black'\n",
              "      break\n",
              "    }\n",
              "  }\n",
              "  "
            ]
          },
          "metadata": {}
        },
        {
          "output_type": "stream",
          "name": "stdout",
          "text": [
            "Classification Report (Validation Set):\n",
            "               precision    recall  f1-score   support\n",
            "\n",
            "       anger       0.81      0.57      0.67      1096\n",
            "        fear       0.83      0.65      0.73      1174\n",
            "         joy       0.72      0.86      0.78      3476\n",
            "     neutral       0.58      0.26      0.36       351\n",
            "     sadness       0.70      0.72      0.71      2587\n",
            "\n",
            "    accuracy                           0.73      8684\n",
            "   macro avg       0.73      0.61      0.65      8684\n",
            "weighted avg       0.73      0.73      0.72      8684\n",
            "\n",
            "Classification Report (Test Set):\n",
            "               precision    recall  f1-score   support\n",
            "\n",
            "       anger       0.79      0.59      0.67      1264\n",
            "        fear       0.80      0.66      0.73      1475\n",
            "         joy       0.72      0.85      0.78      4344\n",
            "     neutral       0.62      0.29      0.39       455\n",
            "     sadness       0.72      0.72      0.72      3317\n",
            "\n",
            "    accuracy                           0.73     10855\n",
            "   macro avg       0.73      0.62      0.66     10855\n",
            "weighted avg       0.73      0.73      0.73     10855\n",
            "\n"
          ]
        }
      ],
      "source": [
        "# Generate classification report for validation set\n",
        "val_report = classification_report(val_labels, val_predictions)\n",
        "print(\"Classification Report (Validation Set):\\n\", val_report)\n",
        "\n",
        "# Generate classification report for test set\n",
        "test_report = classification_report(test_labels, test_predictions)\n",
        "print(\"Classification Report (Test Set):\\n\", test_report)"
      ]
    },
    {
      "cell_type": "code",
      "execution_count": null,
      "metadata": {
        "id": "X-KCYgdssB5T",
        "colab": {
          "base_uri": "https://localhost:8080/",
          "height": 17
        },
        "outputId": "8264ec1a-8891-45bf-9c75-0aab640029c7"
      },
      "outputs": [
        {
          "output_type": "display_data",
          "data": {
            "text/plain": [
              "<IPython.core.display.Javascript object>"
            ],
            "application/javascript": [
              "\n",
              "  for (rule of document.styleSheets[0].cssRules){\n",
              "    if (rule.selectorText=='body') {\n",
              "      rule.style.fontSize a= '25px'\n",
              "      rule.style.color = 'black'\n",
              "      break\n",
              "    }\n",
              "  }\n",
              "  "
            ]
          },
          "metadata": {}
        }
      ],
      "source": [
        "# # Train a SVM model\n",
        "# svm = SVC(kernel='rbf')\n",
        "# svm.fit(train_features, train_labels)\n",
        "\n",
        "# # Make predictions on the validation and test sets\n",
        "# val_predictions = svm.predict(val_features)\n",
        "# test_predictions = svm.predict(test_features)\n",
        "\n",
        "# # Evaluate model performance on validation and test sets\n",
        "# val_accuracy = accuracy_score(val_labels, val_predictions)\n",
        "# test_accuracy = accuracy_score(test_labels, test_predictions)\n",
        "\n",
        "# print(\"Validation Accuracy: {:.2f}%\".format(val_accuracy * 100))\n",
        "# print(\"Testing Accuracy: {:.2f}%\".format(test_accuracy * 100))"
      ]
    },
    {
      "cell_type": "code",
      "execution_count": null,
      "metadata": {
        "id": "1qZNuBS-VZcQ",
        "colab": {
          "base_uri": "https://localhost:8080/",
          "height": 468
        },
        "outputId": "9e3bbaec-5e2d-4f2b-c58d-28e838e4eae6"
      },
      "outputs": [
        {
          "output_type": "display_data",
          "data": {
            "text/plain": [
              "<IPython.core.display.Javascript object>"
            ],
            "application/javascript": [
              "\n",
              "  for (rule of document.styleSheets[0].cssRules){\n",
              "    if (rule.selectorText=='body') {\n",
              "      rule.style.fontSize a= '25px'\n",
              "      rule.style.color = 'black'\n",
              "      break\n",
              "    }\n",
              "  }\n",
              "  "
            ]
          },
          "metadata": {}
        },
        {
          "output_type": "stream",
          "name": "stdout",
          "text": [
            "Classification Report (Validation Set):\n",
            "               precision    recall  f1-score   support\n",
            "\n",
            "       anger       0.81      0.57      0.67      1096\n",
            "        fear       0.83      0.65      0.73      1174\n",
            "         joy       0.72      0.86      0.78      3476\n",
            "     neutral       0.58      0.26      0.36       351\n",
            "     sadness       0.70      0.72      0.71      2587\n",
            "\n",
            "    accuracy                           0.73      8684\n",
            "   macro avg       0.73      0.61      0.65      8684\n",
            "weighted avg       0.73      0.73      0.72      8684\n",
            "\n",
            "Classification Report (Test Set):\n",
            "               precision    recall  f1-score   support\n",
            "\n",
            "       anger       0.79      0.59      0.67      1264\n",
            "        fear       0.80      0.66      0.73      1475\n",
            "         joy       0.72      0.85      0.78      4344\n",
            "     neutral       0.62      0.29      0.39       455\n",
            "     sadness       0.72      0.72      0.72      3317\n",
            "\n",
            "    accuracy                           0.73     10855\n",
            "   macro avg       0.73      0.62      0.66     10855\n",
            "weighted avg       0.73      0.73      0.73     10855\n",
            "\n"
          ]
        }
      ],
      "source": [
        "# Generate classification report for validation set\n",
        "val_report = classification_report(val_labels, val_predictions)\n",
        "print(\"Classification Report (Validation Set):\\n\", val_report)\n",
        "\n",
        "# Generate classification report for test set\n",
        "test_report = classification_report(test_labels, test_predictions)\n",
        "print(\"Classification Report (Test Set):\\n\", test_report)"
      ]
    },
    {
      "cell_type": "code",
      "execution_count": null,
      "metadata": {
        "id": "D4ve8ckVttkl",
        "colab": {
          "base_uri": "https://localhost:8080/",
          "height": 52
        },
        "outputId": "4292abc6-48ee-4eb5-b132-996a498c26b1"
      },
      "outputs": [
        {
          "output_type": "display_data",
          "data": {
            "text/plain": [
              "<IPython.core.display.Javascript object>"
            ],
            "application/javascript": [
              "\n",
              "  for (rule of document.styleSheets[0].cssRules){\n",
              "    if (rule.selectorText=='body') {\n",
              "      rule.style.fontSize a= '25px'\n",
              "      rule.style.color = 'black'\n",
              "      break\n",
              "    }\n",
              "  }\n",
              "  "
            ]
          },
          "metadata": {}
        },
        {
          "output_type": "stream",
          "name": "stdout",
          "text": [
            "Validation Accuracy (Random Forest): 71.00%\n",
            "Testing Accuracy (Random Forest): 71.12%\n"
          ]
        }
      ],
      "source": [
        "# Train a simple Random Forest model\n",
        "rf = RandomForestClassifier(n_estimators=100, random_state=42)\n",
        "rf.fit(train_features, train_labels)\n",
        "\n",
        "# Make predictions on the validation and test sets\n",
        "val_predictions = rf.predict(val_features)\n",
        "test_predictions = rf.predict(test_features)\n",
        "\n",
        "# Evaluate model performance on validation and test sets\n",
        "val_accuracy = accuracy_score(val_labels, val_predictions)\n",
        "test_accuracy = accuracy_score(test_labels, test_predictions)\n",
        "\n",
        "print(\"Validation Accuracy (Random Forest): {:.2f}%\".format(val_accuracy * 100))\n",
        "print(\"Testing Accuracy (Random Forest): {:.2f}%\".format(test_accuracy * 100))"
      ]
    },
    {
      "cell_type": "code",
      "execution_count": null,
      "metadata": {
        "id": "ADEbfdAKVYAo",
        "colab": {
          "base_uri": "https://localhost:8080/",
          "height": 468
        },
        "outputId": "d239f4ba-8a2f-4227-9e38-1c4291395e17"
      },
      "outputs": [
        {
          "output_type": "display_data",
          "data": {
            "text/plain": [
              "<IPython.core.display.Javascript object>"
            ],
            "application/javascript": [
              "\n",
              "  for (rule of document.styleSheets[0].cssRules){\n",
              "    if (rule.selectorText=='body') {\n",
              "      rule.style.fontSize a= '25px'\n",
              "      rule.style.color = 'black'\n",
              "      break\n",
              "    }\n",
              "  }\n",
              "  "
            ]
          },
          "metadata": {}
        },
        {
          "output_type": "stream",
          "name": "stdout",
          "text": [
            "Classification Report (Validation Set):\n",
            "               precision    recall  f1-score   support\n",
            "\n",
            "       anger       0.84      0.54      0.66      1096\n",
            "        fear       0.87      0.64      0.74      1174\n",
            "         joy       0.75      0.80      0.77      3476\n",
            "     neutral       0.32      0.79      0.46       351\n",
            "     sadness       0.69      0.68      0.69      2587\n",
            "\n",
            "    accuracy                           0.71      8684\n",
            "   macro avg       0.70      0.69      0.66      8684\n",
            "weighted avg       0.74      0.71      0.72      8684\n",
            "\n",
            "Classification Report (Test Set):\n",
            "               precision    recall  f1-score   support\n",
            "\n",
            "       anger       0.79      0.53      0.64      1264\n",
            "        fear       0.88      0.67      0.76      1475\n",
            "         joy       0.75      0.80      0.77      4344\n",
            "     neutral       0.33      0.76      0.46       455\n",
            "     sadness       0.71      0.68      0.69      3317\n",
            "\n",
            "    accuracy                           0.71     10855\n",
            "   macro avg       0.69      0.69      0.66     10855\n",
            "weighted avg       0.74      0.71      0.72     10855\n",
            "\n"
          ]
        }
      ],
      "source": [
        "from sklearn.metrics import classification_report\n",
        "\n",
        "# Generate classification report for validation set\n",
        "val_report = classification_report(val_labels, val_predictions)\n",
        "print(\"Classification Report (Validation Set):\\n\", val_report)\n",
        "\n",
        "# Generate classification report for test set\n",
        "test_report = classification_report(test_labels, test_predictions)\n",
        "print(\"Classification Report (Test Set):\\n\", test_report)"
      ]
    },
    {
      "cell_type": "code",
      "execution_count": null,
      "metadata": {
        "id": "W7FvJiN7QxVr",
        "colab": {
          "base_uri": "https://localhost:8080/",
          "height": 17
        },
        "outputId": "60079bf0-2eda-41e9-9ec8-06a2db4f6a0f"
      },
      "outputs": [
        {
          "output_type": "display_data",
          "data": {
            "text/plain": [
              "<IPython.core.display.Javascript object>"
            ],
            "application/javascript": [
              "\n",
              "  for (rule of document.styleSheets[0].cssRules){\n",
              "    if (rule.selectorText=='body') {\n",
              "      rule.style.fontSize a= '25px'\n",
              "      rule.style.color = 'black'\n",
              "      break\n",
              "    }\n",
              "  }\n",
              "  "
            ]
          },
          "metadata": {}
        }
      ],
      "source": [
        "# from sklearn.ensemble import RandomForestClassifier\n",
        "# from sklearn.metrics import accuracy_score\n",
        "# from sklearn.model_selection import GridSearchCV\n",
        "\n",
        "# # 1. Feature Engineering (if needed)\n",
        "# # Perform feature selection or engineering here, e.g., using sklearn's SelectKBest or PolynomialFeatures.\n",
        "\n",
        "# # 2. Hyperparameter Tuning\n",
        "# param_grid = {\n",
        "#     'n_estimators': [100, 200, 300],\n",
        "#     'max_depth': [None, 10, 20, 30],\n",
        "#     'min_samples_split': [2, 5, 10],\n",
        "#     'min_samples_leaf': [1, 2, 4],\n",
        "#     'max_features': ['auto', 'sqrt', 'log2']\n",
        "# }\n",
        "\n",
        "# rf = RandomForestClassifier(random_state=42)\n",
        "# grid_search = GridSearchCV(rf, param_grid, cv=5, n_jobs=-1)\n",
        "# grid_search.fit(train_features, train_labels)\n",
        "\n",
        "# best_rf = grid_search.best_estimator_\n",
        "\n",
        "# # 3. Evaluate model performance on validation set\n",
        "# val_predictions = best_rf.predict(val_features)\n",
        "# val_accuracy = accuracy_score(val_labels, val_predictions)\n",
        "\n",
        "# print(\"Validation Accuracy (Random Forest): {:.2f}%\".format(val_accuracy * 100))\n",
        "\n",
        "# # 4. Evaluate model performance on test set\n",
        "# test_predictions = best_rf.predict(test_features)\n",
        "# test_accuracy = accuracy_score(test_labels, test_predictions)\n",
        "\n",
        "# print(\"Testing Accuracy (Random Forest): {:.2f}%\".format(test_accuracy * 100))\n"
      ]
    },
    {
      "cell_type": "code",
      "execution_count": null,
      "metadata": {
        "id": "8VTmaGUSRUd9",
        "colab": {
          "base_uri": "https://localhost:8080/",
          "height": 52
        },
        "outputId": "05552d0a-bbcb-43cb-fb55-3afeb975ea83"
      },
      "outputs": [
        {
          "output_type": "display_data",
          "data": {
            "text/plain": [
              "<IPython.core.display.Javascript object>"
            ],
            "application/javascript": [
              "\n",
              "  for (rule of document.styleSheets[0].cssRules){\n",
              "    if (rule.selectorText=='body') {\n",
              "      rule.style.fontSize a= '25px'\n",
              "      rule.style.color = 'black'\n",
              "      break\n",
              "    }\n",
              "  }\n",
              "  "
            ]
          },
          "metadata": {}
        },
        {
          "output_type": "stream",
          "name": "stdout",
          "text": [
            "Validation Accuracy (Gradient Boosting): 61.94%\n",
            "Testing Accuracy (Gradient Boosting): 60.62%\n"
          ]
        }
      ],
      "source": [
        "from sklearn.ensemble import GradientBoostingClassifier\n",
        "from sklearn.metrics import accuracy_score\n",
        "\n",
        "# Create a Gradient Boosting classifier\n",
        "gb_classifier = GradientBoostingClassifier(n_estimators=100, learning_rate=0.1, random_state=42)\n",
        "\n",
        "# Train the model on the training data\n",
        "gb_classifier.fit(train_features, train_labels)\n",
        "\n",
        "# Make predictions on the validation and test sets\n",
        "val_predictions = gb_classifier.predict(val_features)\n",
        "test_predictions = gb_classifier.predict(test_features)\n",
        "\n",
        "# Evaluate model performance on validation and test sets\n",
        "val_accuracy = accuracy_score(val_labels, val_predictions)\n",
        "test_accuracy = accuracy_score(test_labels, test_predictions)\n",
        "\n",
        "print(\"Validation Accuracy (Gradient Boosting): {:.2f}%\".format(val_accuracy * 100))\n",
        "print(\"Testing Accuracy (Gradient Boosting): {:.2f}%\".format(test_accuracy * 100))\n"
      ]
    },
    {
      "cell_type": "code",
      "execution_count": null,
      "metadata": {
        "id": "bdsJq04QRizU",
        "colab": {
          "base_uri": "https://localhost:8080/",
          "height": 52
        },
        "outputId": "e9f3aec3-b6eb-4c70-e35e-c0c43cbacc8c"
      },
      "outputs": [
        {
          "output_type": "display_data",
          "data": {
            "text/plain": [
              "<IPython.core.display.Javascript object>"
            ],
            "application/javascript": [
              "\n",
              "  for (rule of document.styleSheets[0].cssRules){\n",
              "    if (rule.selectorText=='body') {\n",
              "      rule.style.fontSize a= '25px'\n",
              "      rule.style.color = 'black'\n",
              "      break\n",
              "    }\n",
              "  }\n",
              "  "
            ]
          },
          "metadata": {}
        },
        {
          "output_type": "stream",
          "name": "stdout",
          "text": [
            "Validation Accuracy (L1 regularization): 72.08%\n",
            "Testing Accuracy (L1 regularization): 71.73%\n"
          ]
        }
      ],
      "source": [
        "from sklearn.linear_model import LogisticRegression\n",
        "from sklearn.metrics import accuracy_score\n",
        "\n",
        "# Create a Logistic Regression model with L1 regularization\n",
        "lr_l1 = LogisticRegression(max_iter=1000, penalty='l1', solver='liblinear', C=10)  # You can adjust C as needed\n",
        "\n",
        "# Train the model on the training data\n",
        "lr_l1.fit(train_features, train_labels)\n",
        "\n",
        "# Make predictions on the validation and test sets\n",
        "val_predictions = lr_l1.predict(val_features)\n",
        "test_predictions = lr_l1.predict(test_features)\n",
        "\n",
        "# Evaluate model performance on validation and test sets\n",
        "val_accuracy = accuracy_score(val_labels, val_predictions)\n",
        "test_accuracy = accuracy_score(test_labels, test_predictions)\n",
        "\n",
        "print(\"Validation Accuracy (L1 regularization): {:.2f}%\".format(val_accuracy * 100))\n",
        "print(\"Testing Accuracy (L1 regularization): {:.2f}%\".format(test_accuracy * 100))\n"
      ]
    },
    {
      "cell_type": "code",
      "execution_count": null,
      "metadata": {
        "id": "HOI9OjqbSdx7",
        "colab": {
          "base_uri": "https://localhost:8080/",
          "height": 52
        },
        "outputId": "45e3ae07-0414-4381-8ed8-d59b390f5d8d"
      },
      "outputs": [
        {
          "output_type": "display_data",
          "data": {
            "text/plain": [
              "<IPython.core.display.Javascript object>"
            ],
            "application/javascript": [
              "\n",
              "  for (rule of document.styleSheets[0].cssRules){\n",
              "    if (rule.selectorText=='body') {\n",
              "      rule.style.fontSize a= '25px'\n",
              "      rule.style.color = 'black'\n",
              "      break\n",
              "    }\n",
              "  }\n",
              "  "
            ]
          },
          "metadata": {}
        },
        {
          "output_type": "stream",
          "name": "stdout",
          "text": [
            "Validation Accuracy (SVC): 72.59%\n",
            "Testing Accuracy (SVC): 71.62%\n"
          ]
        }
      ],
      "source": [
        "from sklearn.svm import SVC\n",
        "from sklearn.metrics import accuracy_score\n",
        "\n",
        "# Create an SVC model\n",
        "svc = SVC(kernel='linear', C=1.0)  # You can adjust the kernel and C parameter as needed\n",
        "\n",
        "# Train the model on the training data\n",
        "svc.fit(train_features, train_labels)\n",
        "\n",
        "# Make predictions on the validation and test sets\n",
        "val_predictions = svc.predict(val_features)\n",
        "test_predictions = svc.predict(test_features)\n",
        "\n",
        "# Evaluate model performance on validation and test sets\n",
        "val_accuracy = accuracy_score(val_labels, val_predictions)\n",
        "test_accuracy = accuracy_score(test_labels, test_predictions)\n",
        "\n",
        "print(\"Validation Accuracy (SVC): {:.2f}%\".format(val_accuracy * 100))\n",
        "print(\"Testing Accuracy (SVC): {:.2f}%\".format(test_accuracy * 100))\n"
      ]
    },
    {
      "cell_type": "code",
      "execution_count": null,
      "metadata": {
        "id": "9GUwJbjjZ8Qq",
        "colab": {
          "base_uri": "https://localhost:8080/",
          "height": 17
        },
        "outputId": "24118a61-ccc8-4dd9-cfd5-110694306586"
      },
      "outputs": [
        {
          "output_type": "display_data",
          "data": {
            "text/plain": [
              "<IPython.core.display.Javascript object>"
            ],
            "application/javascript": [
              "\n",
              "  for (rule of document.styleSheets[0].cssRules){\n",
              "    if (rule.selectorText=='body') {\n",
              "      rule.style.fontSize a= '25px'\n",
              "      rule.style.color = 'black'\n",
              "      break\n",
              "    }\n",
              "  }\n",
              "  "
            ]
          },
          "metadata": {}
        }
      ],
      "source": [
        "# def rec(input):\n",
        "#   input = vectorizer.transform([input])\n",
        "#   input = input.toarray()\n",
        "#   input = input.flatten()\n",
        "#   pre = lr.predict([input])\n",
        "#   print(f'Result:',pre[0])\n",
        "#   recommeded_songs = get_songs_by_emotion(pre[0])\n",
        "#   print(f'Songs:',recommeded_songs)\n",
        "#   return recommeded_songs\n"
      ]
    },
    {
      "cell_type": "code",
      "execution_count": null,
      "metadata": {
        "id": "pA_2iOdD37fE",
        "colab": {
          "base_uri": "https://localhost:8080/",
          "height": 17
        },
        "outputId": "3886109f-671a-489f-f307-006e93384eb8"
      },
      "outputs": [
        {
          "output_type": "display_data",
          "data": {
            "text/plain": [
              "<IPython.core.display.Javascript object>"
            ],
            "application/javascript": [
              "\n",
              "  for (rule of document.styleSheets[0].cssRules){\n",
              "    if (rule.selectorText=='body') {\n",
              "      rule.style.fontSize a= '25px'\n",
              "      rule.style.color = 'black'\n",
              "      break\n",
              "    }\n",
              "  }\n",
              "  "
            ]
          },
          "metadata": {}
        }
      ],
      "source": [
        "# #Trial function for server\n",
        "# import json\n",
        "# import random\n",
        "\n",
        "# data = pd.read_csv(\"/content/drive/MyDrive/ML datasets/Cleaned_Bollywood_dataset.csv\")\n",
        "\n",
        "# def get_songs_by_emotion(emotion):\n",
        "#     song_list = []\n",
        "#     for i in data.index:\n",
        "#         if data.loc[i, \"emotion\"] == emotion:\n",
        "#             song_list.append({\n",
        "#                 \"videoId\": data.loc[i, \"Song-Name\"],\n",
        "#                 \"title\": data.loc[i, \"Song-Name\"],\n",
        "#                 \"thumbnailUrl\": data.loc[i, \"Song-Name\"],\n",
        "#                 \"channelTitle\": data.loc[i, \"Song-Name\"]\n",
        "#             })\n",
        "#     return json.dumps(random.sample(song_list,3))\n"
      ]
    },
    {
      "cell_type": "code",
      "execution_count": null,
      "metadata": {
        "id": "afvcxOvraMqm",
        "colab": {
          "base_uri": "https://localhost:8080/",
          "height": 17
        },
        "outputId": "56072476-46b4-4615-cd0c-d65195290401"
      },
      "outputs": [
        {
          "output_type": "display_data",
          "data": {
            "text/plain": [
              "<IPython.core.display.Javascript object>"
            ],
            "application/javascript": [
              "\n",
              "  for (rule of document.styleSheets[0].cssRules){\n",
              "    if (rule.selectorText=='body') {\n",
              "      rule.style.fontSize a= '25px'\n",
              "      rule.style.color = 'black'\n",
              "      break\n",
              "    }\n",
              "  }\n",
              "  "
            ]
          },
          "metadata": {}
        }
      ],
      "source": [
        "# string = \"My life is messed up\"\n",
        "# songs = rec(string)\n",
        "# print(f'Statement:',string)\n",
        "# songs"
      ]
    },
    {
      "cell_type": "markdown",
      "metadata": {
        "id": "0F-PXvJt5wGc"
      },
      "source": [
        "<h1><b>Deployment</b></h1>"
      ]
    },
    {
      "cell_type": "code",
      "execution_count": null,
      "metadata": {
        "id": "uto4pu4hdmFP",
        "colab": {
          "base_uri": "https://localhost:8080/",
          "height": 17
        },
        "outputId": "0073c9a0-df80-45d7-da09-3205b9a18c8e"
      },
      "outputs": [
        {
          "output_type": "display_data",
          "data": {
            "text/plain": [
              "<IPython.core.display.Javascript object>"
            ],
            "application/javascript": [
              "\n",
              "  for (rule of document.styleSheets[0].cssRules){\n",
              "    if (rule.selectorText=='body') {\n",
              "      rule.style.fontSize a= '25px'\n",
              "      rule.style.color = 'black'\n",
              "      break\n",
              "    }\n",
              "  }\n",
              "  "
            ]
          },
          "metadata": {}
        }
      ],
      "source": [
        "# import pickle\n",
        "\n",
        "# pickle_out = open('classifier.pkl',\"wb\")\n",
        "# pickle.dump(lr,pickle_out)\n",
        "# pickle_out.close()"
      ]
    }
  ],
  "metadata": {
    "colab": {
      "provenance": [],
      "include_colab_link": true
    },
    "kernelspec": {
      "display_name": "Python 3",
      "name": "python3"
    },
    "language_info": {
      "name": "python"
    }
  },
  "nbformat": 4,
  "nbformat_minor": 0
}